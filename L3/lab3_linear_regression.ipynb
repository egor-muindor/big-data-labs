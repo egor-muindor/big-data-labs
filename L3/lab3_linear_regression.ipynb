{
  "nbformat": 4,
  "nbformat_minor": 0,
  "metadata": {
    "colab": {
      "name": "lab3_linear_regression.ipynb",
      "provenance": [],
      "collapsed_sections": []
    },
    "kernelspec": {
      "name": "python3",
      "display_name": "Python 3"
    }
  },
  "cells": [
    {
      "cell_type": "markdown",
      "metadata": {
        "id": "Rg8wHgRyRukt",
        "colab_type": "text"
      },
      "source": [
        "##Лабораторная работа №3. Линейные модели\n"
      ]
    },
    {
      "cell_type": "markdown",
      "metadata": {
        "id": "scznXTVfXPaS",
        "colab_type": "text"
      },
      "source": [
        "Лабораторная работа состоит из трёх частей, в каждой из которых вам нужно построить регерссионную модель и исследовать её свойства."
      ]
    },
    {
      "cell_type": "code",
      "metadata": {
        "id": "gaLXEC3ESQfi",
        "colab_type": "code",
        "colab": {
          "base_uri": "https://localhost:8080/",
          "height": 51
        },
        "outputId": "3d58ec16-d2ee-481d-ca11-4e1a54271031"
      },
      "source": [
        "import numpy as np\n",
        "import pandas as pd\n",
        "import matplotlib.pyplot as plt\n",
        "import statsmodels.api as sm\n",
        "from scipy import stats\n",
        "from sklearn.linear_model import Ridge\n",
        "from sklearn.preprocessing import PolynomialFeatures\n",
        "from sklearn.pipeline import make_pipeline\n",
        "from sklearn.linear_model import LinearRegression\n",
        "from sklearn.metrics import r2_score\n",
        "%matplotlib inline\n",
        "np.random.seed(7)"
      ],
      "execution_count": 1,
      "outputs": [
        {
          "output_type": "stream",
          "text": [
            "/usr/local/lib/python3.6/dist-packages/statsmodels/tools/_testing.py:19: FutureWarning: pandas.util.testing is deprecated. Use the functions in the public API at pandas.testing instead.\n",
            "  import pandas.util.testing as tm\n"
          ],
          "name": "stderr"
        }
      ]
    },
    {
      "cell_type": "markdown",
      "metadata": {
        "id": "gxvjX5oSR9FU",
        "colab_type": "text"
      },
      "source": [
        "## 1. Парная регрессия"
      ]
    },
    {
      "cell_type": "markdown",
      "metadata": {
        "id": "mdKmYoSsX8C9",
        "colab_type": "text"
      },
      "source": [
        "В первой части вам нужно при помощи библиотеки NumPy сгенерировать данные и построить по ним уравнение парной линейной регерессии. Для генерации данных вам нужно определить значения параметров регрессионной модели $k$ и $b$, а также размер выбоки $n$. Устанавливаемые вами значения $k$ и $b$ можно считать «истинными» значениями генеральной совокупности."
      ]
    },
    {
      "cell_type": "code",
      "metadata": {
        "id": "DmPimhFMyxFq",
        "colab_type": "code",
        "colab": {}
      },
      "source": [
        "k = np.random.normal() * 34\n",
        "b = np.random.normal() * 20\n",
        "n = 100"
      ],
      "execution_count": 0,
      "outputs": []
    },
    {
      "cell_type": "markdown",
      "metadata": {
        "id": "dZsvLzH5YxbF",
        "colab_type": "text"
      },
      "source": [
        "Теперь можно сгенерировать значения фактора $x$, воспользовавшись функцией `np.random.normal`, а затем вычислить значения целевой переменной $y$ как $y = kx + b + \\epsilon$, где $\\epsilon$ – случайное отклонение, для генерации которого также можно воспользоваться функцией `np.random.normal`."
      ]
    },
    {
      "cell_type": "code",
      "metadata": {
        "id": "JcO6OJOjZjvA",
        "colab_type": "code",
        "colab": {}
      },
      "source": [
        "X = np.random.normal(size=n)\n",
        "y = (k * X + b) + np.random.normal(size=n) * 5"
      ],
      "execution_count": 0,
      "outputs": []
    },
    {
      "cell_type": "markdown",
      "metadata": {
        "id": "swAGEXsTSg3-",
        "colab_type": "text"
      },
      "source": [
        "Постройте диаграмму рассеяния данных (поле корреляции). Для этого можно воспользоваться функцией [scatter](https://matplotlib.org/3.2.1/api/_as_gen/matplotlib.pyplot.scatter.html) библиотеки matplotlib."
      ]
    },
    {
      "cell_type": "code",
      "metadata": {
        "id": "x60lHxXuSrZl",
        "colab_type": "code",
        "outputId": "1156c342-9722-4d3a-cdd6-09ea42ddd876",
        "colab": {
          "base_uri": "https://localhost:8080/",
          "height": 282
        }
      },
      "source": [
        "plt.scatter(X,y)"
      ],
      "execution_count": 4,
      "outputs": [
        {
          "output_type": "execute_result",
          "data": {
            "text/plain": [
              "<matplotlib.collections.PathCollection at 0x7f0f793409e8>"
            ]
          },
          "metadata": {
            "tags": []
          },
          "execution_count": 4
        },
        {
          "output_type": "display_data",
          "data": {
            "image/png": "[encoded data removed]",
            "text/plain": [
              "<Figure size 432x288 with 1 Axes>"
            ]
          },
          "metadata": {
            "tags": [],
            "needs_background": "light"
          }
        }
      ]
    },
    {
      "cell_type": "markdown",
      "metadata": {
        "id": "MNMOC2-RSvsB",
        "colab_type": "text"
      },
      "source": [
        "Вычислите ковариацию. Не используйте встроенную функцию `np.cov`, вычислите по формуле выборочной ковариации."
      ]
    },
    {
      "cell_type": "code",
      "metadata": {
        "id": "HqM7GIdCTSSo",
        "colab_type": "code",
        "outputId": "278b11ed-b564-425a-9d53-0a7beed51245",
        "colab": {
          "base_uri": "https://localhost:8080/",
          "height": 34
        }
      },
      "source": [
        "# cov = ((X - (X / n).sum()) * (y - (y / n).sum()) / n).sum()\n",
        "cov = (X * y / n).sum() - (X / n).sum() * (y / n).sum() # Так удобнее\n",
        "print(\"COV(X, Y) = {:.2f}\".format(cov))"
      ],
      "execution_count": 5,
      "outputs": [
        {
          "output_type": "stream",
          "text": [
            "COV(X, Y) = 58.16\n"
          ],
          "name": "stdout"
        }
      ]
    },
    {
      "cell_type": "markdown",
      "metadata": {
        "id": "Ulp7hOIzTXFG",
        "colab_type": "text"
      },
      "source": [
        "Вычислите коэффициент корреляции Пирсона $r_{xy}$. Не используйте встроенную функцию `np.corrcoef`. Вычислите по формуле, используя полученное на предыдущем шаге значение ковариации.\n",
        "\n",
        "*Подсказка: для вычисления стандартного отклонения можно воспользоваться функцией `np.std`, но будьте осторожны, обратите внимание на параметр `ddof`.*"
      ]
    },
    {
      "cell_type": "code",
      "metadata": {
        "id": "cPTveEXBTeef",
        "colab_type": "code",
        "outputId": "7264e821-25e9-4b4b-e035-ac9292f60816",
        "colab": {
          "base_uri": "https://localhost:8080/",
          "height": 34
        }
      },
      "source": [
        "corr = cov / (X.std(ddof=1) * y.std(ddof=1))\n",
        "print(\"Corr(X, Y) = {:.2f}\".format(corr))"
      ],
      "execution_count": 6,
      "outputs": [
        {
          "output_type": "stream",
          "text": [
            "Corr(X, Y) = 0.99\n"
          ],
          "name": "stdout"
        }
      ]
    },
    {
      "cell_type": "markdown",
      "metadata": {
        "id": "kwXQCLjOTgZ7",
        "colab_type": "text"
      },
      "source": [
        "Вычислите оценки параметров регрессии с использованием МНК. \n",
        "\n",
        "*Подсказка: Вычисление оценок параметров регресси сводится к решению системы $X^T X P = X^T Y$, где $P$ - вектор-столбец искомых параметров. Для решения системы можно использовать функции `np.linalg.inv` и `np.linalg.solve`.*"
      ]
    },
    {
      "cell_type": "code",
      "metadata": {
        "id": "XeQa1X0AT1Bw",
        "colab_type": "code",
        "outputId": "b2ee1f2c-521b-499d-8548-3247f6ebee22",
        "colab": {
          "base_uri": "https://localhost:8080/",
          "height": 51
        }
      },
      "source": [
        "tX = X[:, np.newaxis]\n",
        "tX = np.c_[X, np.ones(n)]\n",
        "Xt = tX.transpose()\n",
        "p = np.linalg.solve(Xt.dot(tX), Xt.dot(y))\n",
        "print(p)\n",
        "print(k,b)"
      ],
      "execution_count": 7,
      "outputs": [
        {
          "output_type": "stream",
          "text": [
            "[57.24425302 -9.66882151]\n",
            "57.47787392921211 -9.318747410816655\n"
          ],
          "name": "stdout"
        }
      ]
    },
    {
      "cell_type": "markdown",
      "metadata": {
        "id": "6T-OyMjuT5zA",
        "colab_type": "text"
      },
      "source": [
        "Вычислите коэффициент детерминации $R^2$, воспользовавшись двумя формулами: как квадрат коэффициента корреляции и через отношение остаточной дисперсии к общей дисперсии целевой переменной."
      ]
    },
    {
      "cell_type": "code",
      "metadata": {
        "id": "tYGUY8l1ULeW",
        "colab_type": "code",
        "outputId": "51f3cb2b-418a-4812-d6da-85d8c52e0bb9",
        "colab": {
          "base_uri": "https://localhost:8080/",
          "height": 51
        }
      },
      "source": [
        "rs1 = corr**2\n",
        "rs2 = 1 - (X.var(ddof=1) / y.var(ddof=1))\n",
        "\n",
        "print(rs1, rs2, sep='\\n')"
      ],
      "execution_count": 8,
      "outputs": [
        {
          "output_type": "stream",
          "text": [
            "0.9731719591454406\n",
            "0.9996969910808721\n"
          ],
          "name": "stdout"
        }
      ]
    },
    {
      "cell_type": "markdown",
      "metadata": {
        "id": "v-cyCf0uiBwf",
        "colab_type": "text"
      },
      "source": [
        "Постройте линию регрессии на поле корреляции. \n",
        "\n",
        "*Подсказка: для построения линии можно воспользоваться функцией [plot](https://matplotlib.org/3.2.1/api/_as_gen/matplotlib.pyplot.plot.html) библиотеки matplotlib.*"
      ]
    },
    {
      "cell_type": "code",
      "metadata": {
        "id": "ur_SNeX-U9Nh",
        "colab_type": "code",
        "outputId": "663b50e1-04cd-4cb4-e7cb-50373aa7ac1f",
        "colab": {
          "base_uri": "https://localhost:8080/",
          "height": 282
        }
      },
      "source": [
        "plt.plot(X, y, 'bo')\n",
        "plt.plot(np.arange(X.min(),X.max()) ,p[0]*np.arange(X.min(),X.max())+p[1], 'red')"
      ],
      "execution_count": 9,
      "outputs": [
        {
          "output_type": "execute_result",
          "data": {
            "text/plain": [
              "[<matplotlib.lines.Line2D at 0x7f0f76ab0710>]"
            ]
          },
          "metadata": {
            "tags": []
          },
          "execution_count": 9
        },
        {
          "output_type": "display_data",
          "data": {
            "image/png": "[encoded data removed]",
            "text/plain": [
              "<Figure size 432x288 with 1 Axes>"
            ]
          },
          "metadata": {
            "tags": [],
            "needs_background": "light"
          }
        }
      ]
    },
    {
      "cell_type": "markdown",
      "metadata": {
        "id": "Ql_PYaGFWK5E",
        "colab_type": "text"
      },
      "source": [
        "Вычислите [среднюю ошибку аппроксимации](http://univer-nn.ru/ekonometrika/koefficient-korrelyacii-srednyaya-oshibka-approksimacii-koefficient-elastichnosti/). Эта величина показывает, на сколько процентов в среднем расчётное значение целевой переменной отличается от фактического."
      ]
    },
    {
      "cell_type": "code",
      "metadata": {
        "id": "skdQfbYHWOn3",
        "colab_type": "code",
        "outputId": "84ca33eb-8600-4181-988b-bc620055f245",
        "colab": {
          "base_uri": "https://localhost:8080/",
          "height": 34
        }
      },
      "source": [
        "a = np.abs((y - (p[0]*X+p[1])) / y).sum() / n\n",
        "print(\"Средняя ошибка аппроксимации: {:.2f} %\".format(a))"
      ],
      "execution_count": 10,
      "outputs": [
        {
          "output_type": "stream",
          "text": [
            "Средняя ошибка аппроксимации: 0.27 %\n"
          ],
          "name": "stdout"
        }
      ]
    },
    {
      "cell_type": "markdown",
      "metadata": {
        "id": "EYGuFUUHU_bg",
        "colab_type": "text"
      },
      "source": [
        "Оцените статистическую значимость уравнения регресии при помощи F-критерия. Для вычисления значения F-критерия вы можете воспользоваться формулой $F = \\frac{SSM}{SSE} \\frac{n-k-1}{k}$, где $n$ – количество наблюдений в выборке, $k$ – количество факторов, включенных в модель (для парной регрессии $k=1$). Используйте значение уровня значимости $\\alpha = 0,05$.\n",
        "\n",
        "*Подсказка: для вычисления $P(X > F)$ можно воспользоваться функцией [`scipy.stats.f.sf`](https://docs.scipy.org/doc/scipy/reference/generated/scipy.stats.f.html) библиоткеки scipy.*"
      ]
    },
    {
      "cell_type": "code",
      "metadata": {
        "id": "UGbCEe86VIPr",
        "colab_type": "code",
        "outputId": "e50e261d-c06b-47ec-ac32-cd0c4c4182e6",
        "colab": {
          "base_uri": "https://localhost:8080/",
          "height": 34
        }
      },
      "source": [
        "yp = p[0]*np.arange(n)+p[1]\n",
        "xp = np.arange(n)\n",
        "ssm = ((yp - (y / n).sum())**2).sum()\n",
        "sse = ((y-yp)**2).sum()\n",
        "F = ssm/sse * (n-2)\n",
        "print(F, stats.f.sf(F, n, n) < 0.05)"
      ],
      "execution_count": 11,
      "outputs": [
        {
          "output_type": "stream",
          "text": [
            "98.17721912122552 True\n"
          ],
          "name": "stdout"
        }
      ]
    },
    {
      "cell_type": "markdown",
      "metadata": {
        "id": "9vJKvhKlVMBs",
        "colab_type": "text"
      },
      "source": [
        "Вычислите стандартную ошибку коэффициента регресии и оцените его статистическую значимость при помощи t-критерия Стьюдента. Используйте значение уровня значимости $\\alpha = 0,05$.\n",
        "\n",
        "*Подсказка: стандартная ошибка $s_k$ коэффициента регрессии $k$ может быть найдена по формуле $s_k = \\frac{\\sigma_{ост}}{\\sigma_x \\sqrt{n - 1}}$ (формула 3.49 в [2]), а значение статистики $t = \\frac{k}{s_k}$. Для вычисления $P(X > |t|)$ можно воспользоваться функцией [`scipy.stats.t.sf`](https://docs.scipy.org/doc/scipy/reference/generated/scipy.stats.f.html) библиоткеки scipy. При использовании `np.std` обратите внимание на параметр `ddof`.*"
      ]
    },
    {
      "cell_type": "code",
      "metadata": {
        "id": "hXPGxL47Vcjd",
        "colab_type": "code",
        "outputId": "577548fe-efad-4a03-8db9-596c154fcb1a",
        "colab": {
          "base_uri": "https://localhost:8080/",
          "height": 34
        }
      },
      "source": [
        "sk = xp.std(ddof=1)/(X.std(ddof=1)* ((n-1)**1/2)) # В общем я не понял что такое sigma ост\n",
        "t = 1 / sk\n",
        "print(t, stats.t.sf(t, n, n))"
      ],
      "execution_count": 12,
      "outputs": [
        {
          "output_type": "stream",
          "text": [
            "1.7285441206354608 1.0\n"
          ],
          "name": "stdout"
        }
      ]
    },
    {
      "cell_type": "markdown",
      "metadata": {
        "id": "IyUs5dNCBiHj",
        "colab_type": "text"
      },
      "source": [
        "Удостоверьтесь в правильности проведённых вычислений, проведя повторные рассчёты с помощью бибилиотеки [statsmodels](https://www.statsmodels.org/stable/index.html).\n",
        "\n",
        "\n",
        "В результате вы должны получить примерно следующее.\n",
        "```\n",
        "OLS Regression Results                            \n",
        "==============================================================================================\n",
        "Dep. Variable:                      y   R-squared:                       **0.855**\n",
        "Model:                            OLS   Adj. R-squared:                  0.854\n",
        "Method:                 Least Squares   F-statistic:                     **578.9**\n",
        "Date:                Wed, 08 Apr 2020   Prob (F-statistic):              **6.52e-43**\n",
        "Time:                        20:18:48   Log-Likelihood:                -180.77\n",
        "No. Observations:                 100   AIC:                             365.5\n",
        "Df Residuals:                      98   BIC:                             370.8\n",
        "Df Model:                           1                                         \n",
        "Covariance Type:            nonrobust                                         \n",
        "==============================================================================================\n",
        "                 coef          std err          t            P>|t|          [0.025      0.975]\n",
        "------------------------------------------------------------------------------\n",
        "x1             **0.7023**      **0.029**     **24.060**      **0.000**       0.644       0.760\n",
        "const          **5.0939**      0.316           16.106        0.000           4.466       5.722\n",
        "==============================================================================================\n",
        "Omnibus:                        5.958   Durbin-Watson:                   2.145\n",
        "Prob(Omnibus):                  0.051   Jarque-Bera (JB):                9.479\n",
        "Skew:                           0.057   Prob(JB):                      0.00874\n",
        "Kurtosis:                       4.504   Cond. No.                         23.1\n",
        "==============================================================================================\n",
        "```\n",
        "\n",
        "Значения, которые должны совпасть с вычисленными вами, помечены символами `**`."
      ]
    },
    {
      "cell_type": "code",
      "metadata": {
        "id": "gIKPXezIB6mw",
        "colab_type": "code",
        "outputId": "d2daf5cb-dcaa-4d68-9813-166abb6d68ce",
        "colab": {
          "base_uri": "https://localhost:8080/",
          "height": 425
        }
      },
      "source": [
        "results = sm.OLS(y, X).fit()\n",
        "print(results.summary())"
      ],
      "execution_count": 13,
      "outputs": [
        {
          "output_type": "stream",
          "text": [
            "                                 OLS Regression Results                                \n",
            "=======================================================================================\n",
            "Dep. Variable:                      y   R-squared (uncentered):                   0.966\n",
            "Model:                            OLS   Adj. R-squared (uncentered):              0.966\n",
            "Method:                 Least Squares   F-statistic:                              2818.\n",
            "Date:                Sat, 16 May 2020   Prob (F-statistic):                    1.52e-74\n",
            "Time:                        10:20:31   Log-Likelihood:                         -380.08\n",
            "No. Observations:                 100   AIC:                                      762.2\n",
            "Df Residuals:                      99   BIC:                                      764.8\n",
            "Df Model:                           1                                                  \n",
            "Covariance Type:            nonrobust                                                  \n",
            "==============================================================================\n",
            "                 coef    std err          t      P>|t|      [0.025      0.975]\n",
            "------------------------------------------------------------------------------\n",
            "x1            57.2926      1.079     53.082      0.000      55.151      59.434\n",
            "==============================================================================\n",
            "Omnibus:                        4.003   Durbin-Watson:                   0.451\n",
            "Prob(Omnibus):                  0.135   Jarque-Bera (JB):                2.257\n",
            "Skew:                          -0.096   Prob(JB):                        0.324\n",
            "Kurtosis:                       2.290   Cond. No.                         1.00\n",
            "==============================================================================\n",
            "\n",
            "Warnings:\n",
            "[1] Standard Errors assume that the covariance matrix of the errors is correctly specified.\n"
          ],
          "name": "stdout"
        }
      ]
    },
    {
      "cell_type": "markdown",
      "metadata": {
        "id": "Gs1RnZUHKaQK",
        "colab_type": "text"
      },
      "source": [
        "## 2. Множественная регрессия"
      ]
    },
    {
      "cell_type": "markdown",
      "metadata": {
        "id": "5VZVac5Wr8Eo",
        "colab_type": "text"
      },
      "source": [
        "Во второй части вам нужно построить модель множественной линейной регрессии, позволяющую предсказать процент бедного населения в регионе по набору социально-экономических показателей. Для построения модели предлагается использовать данные для 50 штатов США и округа Колумбия. В данных представлены следующие показатели.\n",
        "\n",
        "\n",
        "1.   Процент населения, проживающего в крупных городах (metro_res).\n",
        "2.   Процент населения европейского происхождения (white).\n",
        "3. Процент людей со средним образованием (hs_grad).\n",
        "4. Процент бедного населения (poverty).\n",
        "5. Процент семей, в которых женщина является домохозяйкой (female_house).\n",
        "\n"
      ]
    },
    {
      "cell_type": "code",
      "metadata": {
        "id": "5F7S4CbiCYwg",
        "colab_type": "code",
        "colab": {
          "base_uri": "https://localhost:8080/",
          "height": 34
        },
        "outputId": "fe88de40-56fe-40cf-e9dd-228cfca71333"
      },
      "source": [
        "df = pd.read_csv('http://d396qusza40orc.cloudfront.net/statistics/lec_resources/states.csv')\n",
        "df.shape"
      ],
      "execution_count": 14,
      "outputs": [
        {
          "output_type": "execute_result",
          "data": {
            "text/plain": [
              "(51, 6)"
            ]
          },
          "metadata": {
            "tags": []
          },
          "execution_count": 14
        }
      ]
    },
    {
      "cell_type": "code",
      "metadata": {
        "id": "PDc-weTnGswc",
        "colab_type": "code",
        "outputId": "a6ce3286-4b40-4787-9827-8e60fd5bee01",
        "colab": {
          "base_uri": "https://localhost:8080/",
          "height": 204
        }
      },
      "source": [
        "df.head()"
      ],
      "execution_count": 15,
      "outputs": [
        {
          "output_type": "execute_result",
          "data": {
            "text/html": [
              "<div>\n",
              "<style scoped>\n",
              "    .dataframe tbody tr th:only-of-type {\n",
              "        vertical-align: middle;\n",
              "    }\n",
              "\n",
              "    .dataframe tbody tr th {\n",
              "        vertical-align: top;\n",
              "    }\n",
              "\n",
              "    .dataframe thead th {\n",
              "        text-align: right;\n",
              "    }\n",
              "</style>\n",
              "<table border=\"1\" class=\"dataframe\">\n",
              "  <thead>\n",
              "    <tr style=\"text-align: right;\">\n",
              "      <th></th>\n",
              "      <th>state</th>\n",
              "      <th>metro_res</th>\n",
              "      <th>white</th>\n",
              "      <th>hs_grad</th>\n",
              "      <th>poverty</th>\n",
              "      <th>female_house</th>\n",
              "    </tr>\n",
              "  </thead>\n",
              "  <tbody>\n",
              "    <tr>\n",
              "      <th>0</th>\n",
              "      <td>Alabama</td>\n",
              "      <td>55.4</td>\n",
              "      <td>71.3</td>\n",
              "      <td>79.9</td>\n",
              "      <td>14.6</td>\n",
              "      <td>14.2</td>\n",
              "    </tr>\n",
              "    <tr>\n",
              "      <th>1</th>\n",
              "      <td>Alaska</td>\n",
              "      <td>65.6</td>\n",
              "      <td>70.8</td>\n",
              "      <td>90.6</td>\n",
              "      <td>8.3</td>\n",
              "      <td>10.8</td>\n",
              "    </tr>\n",
              "    <tr>\n",
              "      <th>2</th>\n",
              "      <td>Arizona</td>\n",
              "      <td>88.2</td>\n",
              "      <td>87.7</td>\n",
              "      <td>83.8</td>\n",
              "      <td>13.3</td>\n",
              "      <td>11.1</td>\n",
              "    </tr>\n",
              "    <tr>\n",
              "      <th>3</th>\n",
              "      <td>Arkansas</td>\n",
              "      <td>52.5</td>\n",
              "      <td>81.0</td>\n",
              "      <td>80.9</td>\n",
              "      <td>18.0</td>\n",
              "      <td>12.1</td>\n",
              "    </tr>\n",
              "    <tr>\n",
              "      <th>4</th>\n",
              "      <td>California</td>\n",
              "      <td>94.4</td>\n",
              "      <td>77.5</td>\n",
              "      <td>81.1</td>\n",
              "      <td>12.8</td>\n",
              "      <td>12.6</td>\n",
              "    </tr>\n",
              "  </tbody>\n",
              "</table>\n",
              "</div>"
            ],
            "text/plain": [
              "        state  metro_res  white  hs_grad  poverty  female_house\n",
              "0     Alabama       55.4   71.3     79.9     14.6          14.2\n",
              "1      Alaska       65.6   70.8     90.6      8.3          10.8\n",
              "2     Arizona       88.2   87.7     83.8     13.3          11.1\n",
              "3    Arkansas       52.5   81.0     80.9     18.0          12.1\n",
              "4  California       94.4   77.5     81.1     12.8          12.6"
            ]
          },
          "metadata": {
            "tags": []
          },
          "execution_count": 15
        }
      ]
    },
    {
      "cell_type": "markdown",
      "metadata": {
        "id": "NKAwMsBrFv2d",
        "colab_type": "text"
      },
      "source": [
        "Выполните проверку данных на мультиколлинеарность. Постройте матрицу корреляции. На основе анализа матрицы корреляции определите, какие факторы нужно включить в регрессионную модель.\n",
        "\n",
        "*Подсказка: для построения матрицы корреляции можно использовать функцию `pd.DataFrame.corr`.*"
      ]
    },
    {
      "cell_type": "code",
      "metadata": {
        "id": "vGN157UOF4O9",
        "colab_type": "code",
        "colab": {
          "base_uri": "https://localhost:8080/",
          "height": 204
        },
        "outputId": "6e1a67d0-7b13-451a-eafb-7ae8fe7ac12c"
      },
      "source": [
        "corr_matrix = df.corr()\n",
        "corr_matrix"
      ],
      "execution_count": 16,
      "outputs": [
        {
          "output_type": "execute_result",
          "data": {
            "text/html": [
              "<div>\n",
              "<style scoped>\n",
              "    .dataframe tbody tr th:only-of-type {\n",
              "        vertical-align: middle;\n",
              "    }\n",
              "\n",
              "    .dataframe tbody tr th {\n",
              "        vertical-align: top;\n",
              "    }\n",
              "\n",
              "    .dataframe thead th {\n",
              "        text-align: right;\n",
              "    }\n",
              "</style>\n",
              "<table border=\"1\" class=\"dataframe\">\n",
              "  <thead>\n",
              "    <tr style=\"text-align: right;\">\n",
              "      <th></th>\n",
              "      <th>metro_res</th>\n",
              "      <th>white</th>\n",
              "      <th>hs_grad</th>\n",
              "      <th>poverty</th>\n",
              "      <th>female_house</th>\n",
              "    </tr>\n",
              "  </thead>\n",
              "  <tbody>\n",
              "    <tr>\n",
              "      <th>metro_res</th>\n",
              "      <td>1.000000</td>\n",
              "      <td>-0.342442</td>\n",
              "      <td>0.018110</td>\n",
              "      <td>-0.204235</td>\n",
              "      <td>0.300062</td>\n",
              "    </tr>\n",
              "    <tr>\n",
              "      <th>white</th>\n",
              "      <td>-0.342442</td>\n",
              "      <td>1.000000</td>\n",
              "      <td>0.238156</td>\n",
              "      <td>-0.308520</td>\n",
              "      <td>-0.751394</td>\n",
              "    </tr>\n",
              "    <tr>\n",
              "      <th>hs_grad</th>\n",
              "      <td>0.018110</td>\n",
              "      <td>0.238156</td>\n",
              "      <td>1.000000</td>\n",
              "      <td>-0.746858</td>\n",
              "      <td>-0.611867</td>\n",
              "    </tr>\n",
              "    <tr>\n",
              "      <th>poverty</th>\n",
              "      <td>-0.204235</td>\n",
              "      <td>-0.308520</td>\n",
              "      <td>-0.746858</td>\n",
              "      <td>1.000000</td>\n",
              "      <td>0.525397</td>\n",
              "    </tr>\n",
              "    <tr>\n",
              "      <th>female_house</th>\n",
              "      <td>0.300062</td>\n",
              "      <td>-0.751394</td>\n",
              "      <td>-0.611867</td>\n",
              "      <td>0.525397</td>\n",
              "      <td>1.000000</td>\n",
              "    </tr>\n",
              "  </tbody>\n",
              "</table>\n",
              "</div>"
            ],
            "text/plain": [
              "              metro_res     white   hs_grad   poverty  female_house\n",
              "metro_res      1.000000 -0.342442  0.018110 -0.204235      0.300062\n",
              "white         -0.342442  1.000000  0.238156 -0.308520     -0.751394\n",
              "hs_grad        0.018110  0.238156  1.000000 -0.746858     -0.611867\n",
              "poverty       -0.204235 -0.308520 -0.746858  1.000000      0.525397\n",
              "female_house   0.300062 -0.751394 -0.611867  0.525397      1.000000"
            ]
          },
          "metadata": {
            "tags": []
          },
          "execution_count": 16
        }
      ]
    },
    {
      "cell_type": "code",
      "metadata": {
        "colab_type": "code",
        "outputId": "ad3530f7-18a7-4e04-f8de-1dee5187a8e6",
        "id": "zYEzLLX99q5k",
        "colab": {
          "base_uri": "https://localhost:8080/",
          "height": 354
        }
      },
      "source": [
        "plt.figure(figsize=(20, 20))\n",
        "plt.matshow(corr_matrix)\n",
        "plt.xticks(range(corr_matrix.shape[1]), corr_matrix.columns, fontsize=14, rotation=90)\n",
        "plt.yticks(range(corr_matrix.shape[1]), corr_matrix.columns, fontsize=14)\n",
        "cb = plt.colorbar()\n",
        "cb.ax.tick_params(labelsize=14)\n",
        "plt.show()"
      ],
      "execution_count": 17,
      "outputs": [
        {
          "output_type": "display_data",
          "data": {
            "text/plain": [
              "<Figure size 1440x1440 with 0 Axes>"
            ]
          },
          "metadata": {
            "tags": []
          }
        },
        {
          "output_type": "display_data",
          "data": {
            "image/png": "[encoded data removed]",
            "text/plain": [
              "<Figure size 288x288 with 2 Axes>"
            ]
          },
          "metadata": {
            "tags": [],
            "needs_background": "light"
          }
        }
      ]
    },
    {
      "cell_type": "code",
      "metadata": {
        "id": "PIFlePRUtnhl",
        "colab_type": "code",
        "colab": {}
      },
      "source": [
        ""
      ],
      "execution_count": 0,
      "outputs": []
    },
    {
      "cell_type": "markdown",
      "metadata": {
        "id": "Ds9E3Ae_I84L",
        "colab_type": "text"
      },
      "source": [
        "Вычислите оценки параметров модели при помощи МНК."
      ]
    },
    {
      "cell_type": "code",
      "metadata": {
        "id": "a6RaYuU4JBQZ",
        "colab_type": "code",
        "colab": {
          "base_uri": "https://localhost:8080/",
          "height": 34
        },
        "outputId": "24f8ffa0-cc42-4f2d-ca08-32dd0dddc08c"
      },
      "source": [
        "X =  df.loc[:,['metro_res', 'white', 'hs_grad', 'female_house']]\n",
        "y = df.loc[:,'poverty']\n",
        "model = LinearRegression()\n",
        "model.fit(X,y)"
      ],
      "execution_count": 18,
      "outputs": [
        {
          "output_type": "execute_result",
          "data": {
            "text/plain": [
              "LinearRegression(copy_X=True, fit_intercept=True, n_jobs=None, normalize=False)"
            ]
          },
          "metadata": {
            "tags": []
          },
          "execution_count": 18
        }
      ]
    },
    {
      "cell_type": "markdown",
      "metadata": {
        "id": "W6LZb02ANTcf",
        "colab_type": "text"
      },
      "source": [
        "Вычислите [скорректированный коэффициент детерминации](https://ru.wikipedia.org/wiki/%D0%9A%D0%BE%D1%8D%D1%84%D1%84%D0%B8%D1%86%D0%B8%D0%B5%D0%BD%D1%82_%D0%B4%D0%B5%D1%82%D0%B5%D1%80%D0%BC%D0%B8%D0%BD%D0%B0%D1%86%D0%B8%D0%B8#%D0%A1%D0%BA%D0%BE%D1%80%D1%80%D0%B5%D0%BA%D1%82%D0%B8%D1%80%D0%BE%D0%B2%D0%B0%D0%BD%D0%BD%D1%8B%D0%B9_(adjusted)_'%22%60UNIQ--postMath-00000015-QINU%60%22') полученной регрессионной модели.\n",
        "\n",
        "*Подсказка: скорректированный коэффициент детерминации можно вычислить по формуле $R^2_{adj} = 1 - \\frac{SSE}{SST} \\frac{n - 1}{n - k - 1}$.*"
      ]
    },
    {
      "cell_type": "code",
      "metadata": {
        "id": "EnP7s4WlNZAp",
        "colab_type": "code",
        "colab": {
          "base_uri": "https://localhost:8080/",
          "height": 34
        },
        "outputId": "bd8ebd79-f664-4ffa-e018-717742bbb067"
      },
      "source": [
        "r2_score(y, model.predict(X))"
      ],
      "execution_count": 19,
      "outputs": [
        {
          "output_type": "execute_result",
          "data": {
            "text/plain": [
              "0.6415759298804308"
            ]
          },
          "metadata": {
            "tags": []
          },
          "execution_count": 19
        }
      ]
    },
    {
      "cell_type": "markdown",
      "metadata": {
        "id": "sGCIEkylK7k1",
        "colab_type": "text"
      },
      "source": [
        "При помощи F-критерия оцените статистическую значимость уравнения регрессии. Используйте значение уровня значимости $\\alpha = 0,05$."
      ]
    },
    {
      "cell_type": "code",
      "metadata": {
        "id": "7Em0cHDVLCj9",
        "colab_type": "code",
        "colab": {
          "base_uri": "https://localhost:8080/",
          "height": 34
        },
        "outputId": "05bd6d38-5a28-4d33-e87f-90dac9ad8ea7"
      },
      "source": [
        "model_y = np.array(model.predict(X))\n",
        "sse = np.sum(np.square(y - model_y))\n",
        "ssm = np.sum(np.square(model_y - np.average(y)))\n",
        "F = (ssm/sse)*((y.shape[0]-X.shape[1]-1)/X.shape[1])\n",
        "print(F, stats.f.sf(F, n, n),stats.f.sf(F, n, n) < 0.05)"
      ],
      "execution_count": 20,
      "outputs": [
        {
          "output_type": "stream",
          "text": [
            "20.584898751815498 1.0152626723410643e-39 True\n"
          ],
          "name": "stdout"
        }
      ]
    },
    {
      "cell_type": "markdown",
      "metadata": {
        "id": "Jh14Ff9WNwju",
        "colab_type": "text"
      },
      "source": [
        "Удостоверьтесь в правильности проведённых вычислений, проведя повторные рассчёты с помощью бибилиотеки [statsmodels](https://www.statsmodels.org/stable/index.html)."
      ]
    },
    {
      "cell_type": "code",
      "metadata": {
        "id": "xg6h4JX-NysX",
        "colab_type": "code",
        "colab": {
          "base_uri": "https://localhost:8080/",
          "height": 476
        },
        "outputId": "5056a505-f59c-4f6d-d3a7-37353da1fc3d"
      },
      "source": [
        "results = sm.OLS(y, X).fit()\n",
        "print(results.summary())"
      ],
      "execution_count": 21,
      "outputs": [
        {
          "output_type": "stream",
          "text": [
            "                                 OLS Regression Results                                \n",
            "=======================================================================================\n",
            "Dep. Variable:                poverty   R-squared (uncentered):                   0.961\n",
            "Model:                            OLS   Adj. R-squared (uncentered):              0.957\n",
            "Method:                 Least Squares   F-statistic:                              287.8\n",
            "Date:                Sat, 16 May 2020   Prob (F-statistic):                    2.09e-32\n",
            "Time:                        10:20:36   Log-Likelihood:                         -115.47\n",
            "No. Observations:                  51   AIC:                                      238.9\n",
            "Df Residuals:                      47   BIC:                                      246.7\n",
            "Df Model:                           4                                                  \n",
            "Covariance Type:            nonrobust                                                  \n",
            "================================================================================\n",
            "                   coef    std err          t      P>|t|      [0.025      0.975]\n",
            "--------------------------------------------------------------------------------\n",
            "metro_res       -0.0631      0.024     -2.580      0.013      -0.112      -0.014\n",
            "white            0.0701      0.030      2.299      0.026       0.009       0.131\n",
            "hs_grad         -0.0380      0.047     -0.802      0.426      -0.133       0.057\n",
            "female_house     1.1535      0.156      7.375      0.000       0.839       1.468\n",
            "==============================================================================\n",
            "Omnibus:                        1.526   Durbin-Watson:                   1.625\n",
            "Prob(Omnibus):                  0.466   Jarque-Bera (JB):                1.155\n",
            "Skew:                           0.112   Prob(JB):                        0.561\n",
            "Kurtosis:                       2.298   Cond. No.                         65.8\n",
            "==============================================================================\n",
            "\n",
            "Warnings:\n",
            "[1] Standard Errors assume that the covariance matrix of the errors is correctly specified.\n"
          ],
          "name": "stdout"
        }
      ]
    },
    {
      "cell_type": "markdown",
      "metadata": {
        "id": "Q1jcfmjrwq8b",
        "colab_type": "text"
      },
      "source": [
        "На основе анализа значений t-статистики, полученных на предыдущем шаге, определите, коэффициенты при каких факторах статистически значимо отклоняются от нуля."
      ]
    },
    {
      "cell_type": "markdown",
      "metadata": {
        "id": "6MfbzpZfxVPq",
        "colab_type": "text"
      },
      "source": [
        "hs_grad"
      ]
    },
    {
      "cell_type": "markdown",
      "metadata": {
        "id": "I2cZx5ZjKgZ0",
        "colab_type": "text"
      },
      "source": [
        "## 3. Полиномиальная регрессия"
      ]
    },
    {
      "cell_type": "markdown",
      "metadata": {
        "id": "Gife5M_bx1mg",
        "colab_type": "text"
      },
      "source": [
        "В третьей части вам нужно построить регрессионную модель, в которой зависимость $y$ от $x$ имеет нелинейный характер. "
      ]
    },
    {
      "cell_type": "code",
      "metadata": {
        "id": "eM3LtNFoy-XL",
        "colab_type": "code",
        "colab": {}
      },
      "source": [
        "df = pd.read_csv('http://edu.std-900.ist.mospolytech.ru/files/nonlinear_data.csv')\n",
        "x, y = df.x.values, df.y.values"
      ],
      "execution_count": 0,
      "outputs": []
    },
    {
      "cell_type": "markdown",
      "metadata": {
        "id": "MUo68klDOXvf",
        "colab_type": "text"
      },
      "source": [
        "Постройте диаграмму рассеяния для загруженных данных."
      ]
    },
    {
      "cell_type": "code",
      "metadata": {
        "id": "3W7Lz-ZDOnLH",
        "colab_type": "code",
        "colab": {
          "base_uri": "https://localhost:8080/",
          "height": 282
        },
        "outputId": "0f654862-2dd0-449a-a727-21ceedc34315"
      },
      "source": [
        "plt.plot(x, y, 'bo')"
      ],
      "execution_count": 23,
      "outputs": [
        {
          "output_type": "execute_result",
          "data": {
            "text/plain": [
              "[<matplotlib.lines.Line2D at 0x7f0f74e08048>]"
            ]
          },
          "metadata": {
            "tags": []
          },
          "execution_count": 23
        },
        {
          "output_type": "display_data",
          "data": {
            "image/png": "[encoded data removed]",
            "text/plain": [
              "<Figure size 432x288 with 1 Axes>"
            ]
          },
          "metadata": {
            "tags": [],
            "needs_background": "light"
          }
        }
      ]
    },
    {
      "cell_type": "markdown",
      "metadata": {
        "id": "qINYmXlwOvb5",
        "colab_type": "text"
      },
      "source": [
        "Вычислите оценки параметров регрессионных моделей с помощью МНК для полиномов степеней 1-15. Постройте графики получившихся кривых. Наблюдаются ли на графике сильно выраженные осцилляции (колебания)? Если наблюдаются, то начиная с какой степени полинома?\n",
        "\n",
        "*Подсказка: в библиотеке `sklearn` есть удобный класс [`sklearn.preprocessing.PolynomialFeatures`](https://scikit-learn.org/stable/modules/generated/sklearn.preprocessing.PolynomialFeatures.html), который позволяет легко подготовить данные для построения полиномиальной регрессии.*"
      ]
    },
    {
      "cell_type": "code",
      "metadata": {
        "id": "XXPLty5o7qa1",
        "colab_type": "code",
        "colab": {}
      },
      "source": [
        "colors = [('#%06X' % np.random.randint(0, 0xFFFFFF)) for i in range(16)]"
      ],
      "execution_count": 0,
      "outputs": []
    },
    {
      "cell_type": "code",
      "metadata": {
        "id": "8XVkKJPiQGes",
        "colab_type": "code",
        "colab": {
          "base_uri": "https://localhost:8080/",
          "height": 469
        },
        "outputId": "0717f472-815c-4909-9f12-b06fcf97a487"
      },
      "source": [
        "plt.scatter(x, y, color='navy', s=30, marker='o', label=\"training points\")\n",
        "result = []\n",
        "for i in range(1,16):\n",
        "  poly = make_pipeline(PolynomialFeatures(degree=i), Ridge())\n",
        "  poly.fit(x.reshape(-1, 1), y.reshape(-1, 1))\n",
        "  y_plot = poly.predict(x.reshape(-1, 1))\n",
        "  plt.plot(x, y_plot, color=colors[i], linewidth=2,\n",
        "             label=\"degree %d\" % i)\n",
        "  result.append((i, r2_score(y, y_plot)))\n",
        "# i = 5\n",
        "# poly = make_pipeline(PolynomialFeatures(degree=i), Ridge())\n",
        "# poly.fit(x.reshape(-1, 1), y.reshape(-1, 1))\n",
        "# y_plot = poly.predict(x.reshape(-1, 1))\n",
        "# plt.plot(x, y_plot, color=colors[i], linewidth=2,\n",
        "#             label=\"degree %d\" % i)"
      ],
      "execution_count": 27,
      "outputs": [
        {
          "output_type": "stream",
          "text": [
            "/usr/local/lib/python3.6/dist-packages/sklearn/linear_model/_ridge.py:148: LinAlgWarning: Ill-conditioned matrix (rcond=5.84042e-17): result may not be accurate.\n",
            "  overwrite_a=True).T\n",
            "/usr/local/lib/python3.6/dist-packages/sklearn/linear_model/_ridge.py:148: LinAlgWarning: Ill-conditioned matrix (rcond=1.22818e-18): result may not be accurate.\n",
            "  overwrite_a=True).T\n",
            "/usr/local/lib/python3.6/dist-packages/sklearn/linear_model/_ridge.py:148: LinAlgWarning: Ill-conditioned matrix (rcond=3.79914e-20): result may not be accurate.\n",
            "  overwrite_a=True).T\n",
            "/usr/local/lib/python3.6/dist-packages/sklearn/linear_model/_ridge.py:148: LinAlgWarning: Ill-conditioned matrix (rcond=8.14027e-22): result may not be accurate.\n",
            "  overwrite_a=True).T\n",
            "/usr/local/lib/python3.6/dist-packages/sklearn/linear_model/_ridge.py:148: LinAlgWarning: Ill-conditioned matrix (rcond=2.4544e-23): result may not be accurate.\n",
            "  overwrite_a=True).T\n",
            "/usr/local/lib/python3.6/dist-packages/sklearn/linear_model/_ridge.py:148: LinAlgWarning: Ill-conditioned matrix (rcond=5.33093e-25): result may not be accurate.\n",
            "  overwrite_a=True).T\n"
          ],
          "name": "stderr"
        },
        {
          "output_type": "display_data",
          "data": {
            "image/png": "[encoded data removed]",
            "text/plain": [
              "<Figure size 432x288 with 1 Axes>"
            ]
          },
          "metadata": {
            "tags": [],
            "needs_background": "light"
          }
        }
      ]
    },
    {
      "cell_type": "markdown",
      "metadata": {
        "id": "k_fRwfuX-V0X",
        "colab_type": "text"
      },
      "source": [
        "Наблюдаются с 7й степени стремление пройти через точки данных обучения (те он просто выучит их), 1я степень - линия"
      ]
    },
    {
      "cell_type": "markdown",
      "metadata": {
        "id": "UGNl2oBhPxYu",
        "colab_type": "text"
      },
      "source": [
        "Полином какой степени, по вашему мнению, наилучшим образом описывает данные? Вычислите для него коэффициент детерминации."
      ]
    },
    {
      "cell_type": "code",
      "metadata": {
        "id": "t4Jfi9HFP73v",
        "colab_type": "code",
        "colab": {
          "base_uri": "https://localhost:8080/",
          "height": 54
        },
        "outputId": "f8d49b96-3625-4463-d6a2-325e8623ad57"
      },
      "source": [
        "print(result)"
      ],
      "execution_count": 28,
      "outputs": [
        {
          "output_type": "stream",
          "text": [
            "[(1, 0.6715328042693787), (2, 0.7827964873020049), (3, 0.8298750928581241), (4, 0.8846629719496358), (5, 0.8975857950543864), (6, 0.9023196469417206), (7, 0.9232101802437395), (8, 0.924494470256858), (9, 0.926616944005615), (10, 0.9452752768808246), (11, 0.9434968464012019), (12, 0.9508472811305665), (13, 0.9607992096154588), (14, 0.9696328699057948), (15, 0.9708364021887155)]\n"
          ],
          "name": "stdout"
        }
      ]
    },
    {
      "cell_type": "markdown",
      "metadata": {
        "id": "k1oc3Uxl_aq6",
        "colab_type": "text"
      },
      "source": [
        "Полином 6 степени"
      ]
    },
    {
      "cell_type": "markdown",
      "metadata": {
        "id": "xNaA3qg6KoED",
        "colab_type": "text"
      },
      "source": [
        "## Полезные материалы\n",
        "\n",
        "\n",
        "1.   [Linear Regression in Python](https://realpython.com/linear-regression-in-python/)\n",
        "2.   Фёрстер Э. Методы корреляционного и регрессионного анализа. Руководство для экономистов. / Э. Фёрстер, Б. М. Рёнц – М.: «Финансы и статистика», 1983 г. – 304 с.\n",
        "\n",
        "\n"
      ]
    }
  ]
}