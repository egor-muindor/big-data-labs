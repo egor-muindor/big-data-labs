{
 "cells": [
  {
   "cell_type": "markdown",
   "metadata": {
    "collapsed": true,
    "pycharm": {
     "is_executing": false,
     "name": "#%% md\n"
    }
   },
   "source": [
    "### Задание 6.1\n",
    "Список mac содержит MAC-адреса в формате XXXX:XXXX:XXXX. Однако, в оборудовании cisco MAC-адреса используются в формате XXXX.XXXX.XXXX.\n",
    "Создать скрипт, который преобразует MAC-адреса в формат cisco и добавляет их в новый список mac_cisco"
   ]
  },
  {
   "cell_type": "code",
   "execution_count": 3,
   "outputs": [
    {
     "name": "stdout",
     "text": [
      "['aabb.cc80.7000', 'aabb.dd80.7340', 'aabb.ee80.7000', 'aabb.ff80.7000']\n"
     ],
     "output_type": "stream"
    }
   ],
   "source": [
    "mac = ['aabb:cc80:7000', 'aabb:dd80:7340', 'aabb:ee80:7000', 'aabb:ff80:7000']\n",
    "mac_cisco = [i.replace(':', '.') for i in mac]\n",
    "print(mac_cisco)"
   ],
   "metadata": {
    "collapsed": false,
    "pycharm": {
     "name": "#%%\n",
     "is_executing": false
    }
   }
  },
  {
   "cell_type": "markdown",
   "source": [
    "### Задание 6.2\n",
    "\n",
    "1. Запросить у пользователя ввод IP-адреса в формате 10.0.1.1\n",
    "2. Определить тип IP-адреса.\n",
    "3. В зависимости от типа адреса, вывести на стандартный поток вывода:\n",
    "    - „unicast“ - если первый байт в диапазоне 1-223\n",
    "    - „multicast“ - если первый байт в диапазоне 224-239\n",
    "    - „local broadcast“ - если IP-адрес равен 255.255.255.255\n",
    "    - „unassigned“ - если IP-адрес равен 0.0.0.0\n",
    "    - „unused“ - во всех остальных случаях"
   ],
   "metadata": {
    "collapsed": false,
    "pycharm": {
     "name": "#%% md\n",
     "is_executing": false
    }
   }
  },
  {
   "cell_type": "code",
   "execution_count": 5,
   "outputs": [
    {
     "traceback": [
      "\u001b[0;31m---------------------------------------------------------------------------\u001b[0m",
      "\u001b[0;31mValueError\u001b[0m                                Traceback (most recent call last)",
      "\u001b[0;32m<ipython-input-5-bef15f6d7203>\u001b[0m in \u001b[0;36m<module>\u001b[0;34m\u001b[0m\n\u001b[1;32m      1\u001b[0m \u001b[0mip\u001b[0m \u001b[0;34m=\u001b[0m \u001b[0minput\u001b[0m\u001b[0;34m(\u001b[0m\u001b[0;34m'Введите IP-адрес(например 10.0.1.1): '\u001b[0m\u001b[0;34m)\u001b[0m\u001b[0;34m\u001b[0m\u001b[0;34m\u001b[0m\u001b[0m\n\u001b[0;32m----> 2\u001b[0;31m \u001b[0mip\u001b[0m \u001b[0;34m=\u001b[0m \u001b[0;34m[\u001b[0m\u001b[0mint\u001b[0m\u001b[0;34m(\u001b[0m\u001b[0mi\u001b[0m\u001b[0;34m)\u001b[0m \u001b[0;32mfor\u001b[0m \u001b[0mi\u001b[0m \u001b[0;32min\u001b[0m \u001b[0mip\u001b[0m\u001b[0;34m.\u001b[0m\u001b[0mstrip\u001b[0m\u001b[0;34m(\u001b[0m\u001b[0;34m)\u001b[0m\u001b[0;34m.\u001b[0m\u001b[0msplit\u001b[0m\u001b[0;34m(\u001b[0m\u001b[0;34m'.'\u001b[0m\u001b[0;34m)\u001b[0m\u001b[0;34m]\u001b[0m\u001b[0;34m\u001b[0m\u001b[0;34m\u001b[0m\u001b[0m\n\u001b[0m\u001b[1;32m      3\u001b[0m \u001b[0;34m\u001b[0m\u001b[0m\n\u001b[1;32m      4\u001b[0m \u001b[0municast\u001b[0m \u001b[0;34m=\u001b[0m \u001b[0mlist\u001b[0m\u001b[0;34m(\u001b[0m\u001b[0mrange\u001b[0m\u001b[0;34m(\u001b[0m\u001b[0;36m1\u001b[0m\u001b[0;34m,\u001b[0m \u001b[0;36m224\u001b[0m\u001b[0;34m)\u001b[0m\u001b[0;34m)\u001b[0m\u001b[0;34m\u001b[0m\u001b[0;34m\u001b[0m\u001b[0m\n\u001b[1;32m      5\u001b[0m \u001b[0mmulticast\u001b[0m \u001b[0;34m=\u001b[0m \u001b[0mlist\u001b[0m\u001b[0;34m(\u001b[0m\u001b[0mrange\u001b[0m\u001b[0;34m(\u001b[0m\u001b[0;36m224\u001b[0m\u001b[0;34m,\u001b[0m \u001b[0;36m240\u001b[0m\u001b[0;34m)\u001b[0m\u001b[0;34m)\u001b[0m\u001b[0;34m\u001b[0m\u001b[0;34m\u001b[0m\u001b[0m\n",
      "\u001b[0;32m<ipython-input-5-bef15f6d7203>\u001b[0m in \u001b[0;36m<listcomp>\u001b[0;34m(.0)\u001b[0m\n\u001b[1;32m      1\u001b[0m \u001b[0mip\u001b[0m \u001b[0;34m=\u001b[0m \u001b[0minput\u001b[0m\u001b[0;34m(\u001b[0m\u001b[0;34m'Введите IP-адрес(например 10.0.1.1): '\u001b[0m\u001b[0;34m)\u001b[0m\u001b[0;34m\u001b[0m\u001b[0;34m\u001b[0m\u001b[0m\n\u001b[0;32m----> 2\u001b[0;31m \u001b[0mip\u001b[0m \u001b[0;34m=\u001b[0m \u001b[0;34m[\u001b[0m\u001b[0mint\u001b[0m\u001b[0;34m(\u001b[0m\u001b[0mi\u001b[0m\u001b[0;34m)\u001b[0m \u001b[0;32mfor\u001b[0m \u001b[0mi\u001b[0m \u001b[0;32min\u001b[0m \u001b[0mip\u001b[0m\u001b[0;34m.\u001b[0m\u001b[0mstrip\u001b[0m\u001b[0;34m(\u001b[0m\u001b[0;34m)\u001b[0m\u001b[0;34m.\u001b[0m\u001b[0msplit\u001b[0m\u001b[0;34m(\u001b[0m\u001b[0;34m'.'\u001b[0m\u001b[0;34m)\u001b[0m\u001b[0;34m]\u001b[0m\u001b[0;34m\u001b[0m\u001b[0;34m\u001b[0m\u001b[0m\n\u001b[0m\u001b[1;32m      3\u001b[0m \u001b[0;34m\u001b[0m\u001b[0m\n\u001b[1;32m      4\u001b[0m \u001b[0municast\u001b[0m \u001b[0;34m=\u001b[0m \u001b[0mlist\u001b[0m\u001b[0;34m(\u001b[0m\u001b[0mrange\u001b[0m\u001b[0;34m(\u001b[0m\u001b[0;36m1\u001b[0m\u001b[0;34m,\u001b[0m \u001b[0;36m224\u001b[0m\u001b[0;34m)\u001b[0m\u001b[0;34m)\u001b[0m\u001b[0;34m\u001b[0m\u001b[0;34m\u001b[0m\u001b[0m\n\u001b[1;32m      5\u001b[0m \u001b[0mmulticast\u001b[0m \u001b[0;34m=\u001b[0m \u001b[0mlist\u001b[0m\u001b[0;34m(\u001b[0m\u001b[0mrange\u001b[0m\u001b[0;34m(\u001b[0m\u001b[0;36m224\u001b[0m\u001b[0;34m,\u001b[0m \u001b[0;36m240\u001b[0m\u001b[0;34m)\u001b[0m\u001b[0;34m)\u001b[0m\u001b[0;34m\u001b[0m\u001b[0;34m\u001b[0m\u001b[0m\n",
      "\u001b[0;31mValueError\u001b[0m: invalid literal for int() with base 10: ''"
     ],
     "ename": "ValueError",
     "evalue": "invalid literal for int() with base 10: ''",
     "output_type": "error"
    }
   ],
   "source": [
    "ip = input('Введите IP-адрес(например 10.0.1.1): ')\n",
    "ip = [int(i) for i in ip.strip().split('.')]\n",
    "\n",
    "unicast = list(range(1, 224))\n",
    "multicast = list(range(224, 240))\n",
    "broadcast = [255,255,255,255]\n",
    "unassigned = [0,0,0,0]\n",
    "\n",
    "if ip[0] in unicast:\n",
    "    print('unicast')\n",
    "elif ip[0] in multicast:\n",
    "    print('multicast')\n",
    "elif ip == broadcast:\n",
    "    print('local broadcast')\n",
    "elif ip == unassigned:\n",
    "    print('unassigned')\n",
    "else:\n",
    "    print('unused')\n",
    "\n"
   ],
   "metadata": {
    "collapsed": false,
    "pycharm": {
     "name": "#%%\n",
     "is_executing": false
    }
   }
  },
  {
   "cell_type": "markdown",
   "source": [
    "### Задание 6.3\n",
    "\n",
    "В скрипте сделан генератор конфигурации для access-портов.\n",
    "\n",
    "Сделать аналогичный генератор конфигурации для портов trunk.\n",
    "\n",
    "В транках ситуация усложняется тем, что VLANов может быть много, и надо понимать, что с ним делать.\n",
    "\n",
    "Поэтому в соответствии каждому порту стоит список и первый (нулевой) элемент списка указывает как воспринимать номера VLAN, которые идут дальше:\n",
    "\n",
    "add - VLANы надо будет добавить (команда switchport trunk allowed vlan add 10,20)\n",
    "del - VLANы надо удалить из списка разрешенных (команда switchport trunk allowed vlan remove 17)\n",
    "only - на интерфейсе должны остаться разрешенными только указанные VLANы (команда switchport trunk allowed vlan 11,30)\n",
    "Задача для портов 0/1, 0/2, 0/4:\n",
    "\n",
    "сгенерировать конфигурацию на основе шаблона trunk_template\n",
    "с учетом ключевых слов add, del, only\n",
    "Код не должен привязываться к конкретным номерам портов. То есть, если в словаре trunk будут другие номера интерфейсов, код должен работать."
   ],
   "metadata": {
    "collapsed": false,
    "pycharm": {
     "name": "#%% md\n",
     "is_executing": false
    }
   }
  },
  {
   "cell_type": "code",
   "execution_count": 7,
   "outputs": [
    {
     "name": "stdout",
     "text": [
      "interface FastEthernet0/1\n",
      " switchport trunk encapsulation dot1q\n",
      " switchport mode trunk\n",
      " switchport trunk allowed vlan add 10,20\n",
      "interface FastEthernet0/2\n",
      " switchport trunk encapsulation dot1q\n",
      " switchport mode trunk\n",
      " switchport trunk allowed vlan 11,30\n",
      "interface FastEthernet0/4\n",
      " switchport trunk encapsulation dot1q\n",
      " switchport mode trunk\n",
      " switchport trunk allowed vlan remove 17\n"
     ],
     "output_type": "stream"
    }
   ],
   "source": [
    "access_template = ['switchport mode access',\n",
    "'switchport access vlan',\n",
    "                   'spanning-tree portfast',\n",
    "                   'spanning-tree bpduguard enable']\n",
    "\n",
    "trunk_template = ['switchport trunk encapsulation dot1q',\n",
    "                  'switchport mode trunk',\n",
    "                  'switchport trunk allowed vlan']\n",
    "\n",
    "fast_int = {'access':{'0/12':'10','0/14':'11','0/16':'17','0/17':'150'},\n",
    "            'trunk':{'0/1':['add','10','20'],\n",
    "                     '0/2':['only','11','30'],\n",
    "                     '0/4':['del','17']} }\n",
    "\n",
    "for intf, vlan in fast_int['trunk'].items():\n",
    "    print('interface FastEthernet' + intf)\n",
    "    for command in trunk_template:\n",
    "        if command.endswith('allowed vlan'):\n",
    "            if vlan[0] is 'add':\n",
    "                print(' {} add {}'.format(command, ','.join(vlan[1:])))\n",
    "            elif vlan[0] is 'only':\n",
    "                print(' {} {}'.format(command, ','.join(vlan[1:])))\n",
    "            elif vlan[0] is 'del':\n",
    "                print(' {} remove {}'.format(command, ','.join(vlan[1:])))\n",
    "        else:\n",
    "                print(' {}'.format(command))\n",
    "\n"
   ],
   "metadata": {
    "collapsed": false,
    "pycharm": {
     "name": "#%%\n",
     "is_executing": false
    }
   }
  }
 ],
 "metadata": {
  "kernelspec": {
   "display_name": "Python 3",
   "language": "python",
   "name": "python3"
  },
  "language_info": {
   "codemirror_mode": {
    "name": "ipython",
    "version": 2
   },
   "file_extension": ".py",
   "mimetype": "text/x-python",
   "name": "python",
   "nbconvert_exporter": "python",
   "pygments_lexer": "ipython2",
   "version": "2.7.6"
  },
  "pycharm": {
   "stem_cell": {
    "cell_type": "raw",
    "source": [],
    "metadata": {
     "collapsed": false
    }
   }
  }
 },
 "nbformat": 4,
 "nbformat_minor": 0
}