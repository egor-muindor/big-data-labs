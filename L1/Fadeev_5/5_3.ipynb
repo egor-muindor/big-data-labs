{
 "cells": [
  {
   "cell_type": "markdown",
   "metadata": {
    "collapsed": true,
    "pycharm": {
     "is_executing": false,
     "name": "#%% md\n"
    }
   },
   "source": [
    "## Задание 5.3\n",
    "Скрипт должен запрашивать у пользователя:\n",
    "\n",
    "информацию о режиме интерфейса (access/trunk)\n",
    "номере интерфейса (тип и номер, вида Gi0/3)\n",
    "номер VLANа (для режима trunk будет вводиться список VLANов)\n",
    "В зависимости от выбранного режима, на стандартный поток вывода, должна возвращаться соответствующая конфигурация access или trunk (шаблоны команд находятся в списках access_template и trunk_template).\n",
    "\n",
    "При этом, сначала должна идти строка interface и подставлен номер интерфейса, а затем соответствующий шаблон, в который подставлен номер VLANа (или список VLANов).\n"
   ]
  },
  {
   "cell_type": "code",
   "execution_count": 1,
   "outputs": [
    {
     "name": "stdout",
     "text": [
      "\n",
      "\n",
      "\n",
      "interface 1\n",
      "switchport mode access\n",
      "switchport access vlan 3\n",
      "switchport nonegotiate\n",
      "spanning-tree portfast\n",
      "spanning-tree bpduguard enable\n"
     ],
     "output_type": "stream"
    }
   ],
   "source": [
    "mode = input('Введите режим работы интерфейса (access/trunk):')\n",
    "interface = input('Введите тип и номер интерфейса:')\n",
    "vlans = input ('Введите номер влан(ов): ')\n",
    "\n",
    "config_template = [\n",
    "['switchport mode access',\n",
    " 'switchport access vlan {}',\n",
    " 'switchport nonegotiate',\n",
    " 'spanning-tree portfast',\n",
    " 'spanning-tree bpduguard enable'],\n",
    "['switchport trunk encapsulation dot1q',\n",
    " 'switchport mode trunk',\n",
    " 'switchport trunk allowed vlan {}']\n",
    "]\n",
    "\n",
    "mode = mode.count('trunk')\n",
    "\n",
    "print('\\n' * 2)\n",
    "print('interface {}'.format(interface))\n",
    "print('\\n'.join(config_template[mode]).format(vlans))\n",
    "\n"
   ],
   "metadata": {
    "collapsed": false,
    "pycharm": {
     "name": "#%%\n",
     "is_executing": false
    }
   }
  }
 ],
 "metadata": {
  "kernelspec": {
   "display_name": "Python 3",
   "language": "python",
   "name": "python3"
  },
  "language_info": {
   "codemirror_mode": {
    "name": "ipython",
    "version": 2
   },
   "file_extension": ".py",
   "mimetype": "text/x-python",
   "name": "python",
   "nbconvert_exporter": "python",
   "pygments_lexer": "ipython2",
   "version": "2.7.6"
  },
  "pycharm": {
   "stem_cell": {
    "cell_type": "raw",
    "source": [],
    "metadata": {
     "collapsed": false
    }
   }
  }
 },
 "nbformat": 4,
 "nbformat_minor": 0
}