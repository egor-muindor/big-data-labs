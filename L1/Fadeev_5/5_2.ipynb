{
 "cells": [
  {
   "cell_type": "markdown",
   "metadata": {
    "collapsed": true,
    "pycharm": {
     "name": "#%% md\n"
    }
   },
   "source": [
    "### Задание 5.2\n",
    "Запросить у пользователя ввод IP-сети в формате: 10.1.1.0/24\n",
    "\n",
    "Затем вывести информацию о сети и маске в таком формате:\n",
    "```\n",
    "Network:\n",
    "10        1         1         0\n",
    "00001010  00000001  00000001  00000000\n",
    "\n",
    "Mask:\n",
    "/24\n",
    "255       255       255       0\n",
    "11111111  11111111  11111111  00000000\n",
    "```"
   ]
  },
  {
   "cell_type": "code",
   "execution_count": 24,
   "outputs": [
    {
     "name": "stdout",
     "text": [
      "\n",
      "Network:\n",
      "10         1          1          0         \n",
      "0000001010 0000000001 0000000001 0000000000\n",
      "\n",
      "\n",
      "Mask:\n",
      "/23\n",
      "255        255        254        0         \n",
      "1111111100 1111111100 1111111000 0000000000\n",
      "\n"
     ],
     "output_type": "stream"
    }
   ],
   "source": [
    "# network = input('Введите адрес сети с префиксом (10.10.10.0/24)')\n",
    "network = '10.1.1.0/23'\n",
    "ip, mask = network.split('/')\n",
    "ip = [int(i) for i in ip.split('.')]\n",
    "\n",
    "ip_template = \"\"\"\n",
    "Network:\n",
    "{0:<8} {1:<8} {2:<8} {3:<8}\n",
    "{0:>08b} {1:>08b} {2:>08b} {3:>08b}\n",
    "\"\"\"\n",
    "print(ip_template.format(*ip))\n",
    "\n",
    "bit_mask = '1' * int(mask)\n",
    "bit_mask = \"{:<032}\".format(bit_mask)\n",
    "mask_template = \"\"\"\n",
    "Mask:\n",
    "/{mask}\n",
    "{0:<8} {1:<8} {2:<8} {3:<8}\n",
    "{0:<08b} {1:<08b} {2:<08b} {3:<08b}\n",
    "\"\"\"\n",
    "\n",
    "print(mask_template.format(*[int(bit_mask[i*8:(i+1)*8], 2) for i in range(4)], mask=mask))\n"
   ],
   "metadata": {
    "collapsed": false,
    "pycharm": {
     "name": "#%%\n",
     "is_executing": false
    }
   }
  },
  {
   "cell_type": "markdown",
   "source": [
    "### Задание 5.2a\n",
    "Всё, как в задании 5.2. Но, если пользователь ввел адрес хоста, а не адрес сети, то надо адрес хоста преобразовать в адрес сети и вывести адрес сети и маску, как в задании 5.2.\n",
    "\n",
    "Пример адреса сети (все биты хостовой части равны нулю):\n",
    "\n",
    "10.0.1.0/24\n",
    "190.1.0.0/16\n",
    "Пример адреса хоста:\n",
    "\n",
    "10.0.1.1/24 - хост из сети 10.0.1.0/24\n",
    "10.0.5.1/30 - хост из сети 10.0.5.0/30\n",
    "Если пользователь ввел адрес 10.0.1.1/24, вывод должен быть таким:\n",
    "\n",
    "Network:\n",
    "10        0         1         0\n",
    "00001010  00000000  00000001  00000000\n",
    "\n",
    "Mask:\n",
    "/24\n",
    "255       255       255       0\n",
    "11111111  11111111  11111111  00000000\n"
   ],
   "metadata": {
    "collapsed": false,
    "pycharm": {
     "name": "#%% md\n",
     "is_executing": false
    }
   }
  },
  {
   "cell_type": "code",
   "execution_count": 34,
   "outputs": [
    {
     "name": "stdout",
     "text": [
      "\n",
      "Network:\n",
      "10       1        2        0       \n",
      "00001010 00000001 00000010 00000000\n",
      "\n",
      "\n",
      "Mask:\n",
      "/23\n",
      "255      255      254      0       \n",
      "11111111 11111111 11111110 00000000\n",
      "\n"
     ],
     "output_type": "stream"
    }
   ],
   "source": [
    "# network = input('Введите адрес сети с префиксом (10.10.10.4/24)')\n",
    "network = '10.1.3.52/23'\n",
    "ip, mask = network.split('/')\n",
    "ip = [int(i) for i in ip.split('.')]\n",
    "bit_mask = '1' * int(mask)\n",
    "bit_mask = \"{:<032}\".format(bit_mask)\n",
    "# Получаем адрес сети побитово перемножая IP на маску\n",
    "network_ip = [ip[i] & int(bit_mask[i*8:(i+1)*8], 2) for i in range(4)]\n",
    "\n",
    "ip_template = \"\"\"\n",
    "Network:\n",
    "{0:<8} {1:<8} {2:<8} {3:<8}\n",
    "{0:>08b} {1:>08b} {2:>08b} {3:>08b}\n",
    "\"\"\"\n",
    "print(ip_template.format(*network_ip))\n",
    "\n",
    "mask_template = \"\"\"\n",
    "Mask:\n",
    "/{mask}\n",
    "{0:<8} {1:<8} {2:<8} {3:<8}\n",
    "{0:<08b} {1:<08b} {2:<08b} {3:<08b}\n",
    "\"\"\"\n",
    "\n",
    "print(mask_template.format(*[int(bit_mask[i*8:(i+1)*8], 2) for i in range(4)], mask=mask))\n",
    "\n"
   ],
   "metadata": {
    "collapsed": false,
    "pycharm": {
     "name": "#%%\n",
     "is_executing": false
    }
   }
  }
 ],
 "metadata": {
  "kernelspec": {
   "display_name": "Python 3",
   "language": "python",
   "name": "python3"
  },
  "language_info": {
   "codemirror_mode": {
    "name": "ipython",
    "version": 2
   },
   "file_extension": ".py",
   "mimetype": "text/x-python",
   "name": "python",
   "nbconvert_exporter": "python",
   "pygments_lexer": "ipython2",
   "version": "2.7.6"
  },
  "pycharm": {
   "stem_cell": {
    "cell_type": "raw",
    "source": [],
    "metadata": {
     "collapsed": false
    }
   }
  }
 },
 "nbformat": 4,
 "nbformat_minor": 0
}