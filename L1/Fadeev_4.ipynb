{
 "cells": [
  {
   "cell_type": "markdown",
   "metadata": {
    "pycharm": {
     "is_executing": false,
     "name": "#%% md\n"
    }
   },
   "source": [
    "## Задания главы №4"
   ]
  },
  {
   "cell_type": "markdown",
   "metadata": {},
   "source": [
    "### Задание 4.1\n",
    "\n",
    "Обработать строку NAT таким образом, чтобы в имени интерфейса вместо **FastEthernet** было **GigabitEthernet**.\n",
    "\n",
    "`NAT = \"ip nat inside source list ACL interface FastEthernet0/1 overload\"`"
   ]
  },
  {
   "cell_type": "code",
   "execution_count": 2,
   "metadata": {
    "pycharm": {
     "is_executing": false,
     "name": "#%%\n"
    }
   },
   "outputs": [
    {
     "name": "stdout",
     "output_type": "stream",
     "text": [
      "ip nat inside source list ACL interface GigabitEthernet0/1 overload\n"
     ]
    }
   ],
   "source": [
    "NAT = \"ip nat inside source list ACL interface FastEthernet0/1 overload\"\n",
    "\n",
    "print(NAT.replace('Fast', 'Gigabit'))"
   ]
  },
  {
   "cell_type": "markdown",
   "metadata": {
    "pycharm": {
     "name": "#%% md\n"
    }
   },
   "source": [
    "### Задание 4.2\n",
    "\n",
    "Преобразовать строку mac из формата `XXXX:XXXX:XXXX` в формат `XXXX.XXXX.XXXX`\n",
    "\n",
    "`mac = 'AAAA:BBBB:CCCC'`"
   ]
  },
  {
   "cell_type": "code",
   "execution_count": 3,
   "metadata": {
    "pycharm": {
     "is_executing": false,
     "name": "#%%\n"
    }
   },
   "outputs": [
    {
     "name": "stdout",
     "output_type": "stream",
     "text": [
      "AAAA.BBBB.CCCC\n"
     ]
    }
   ],
   "source": [
    "mac = 'AAAA:BBBB:CCCC'\n",
    "print(mac.replace(':', '.'))"
   ]
  },
  {
   "cell_type": "markdown",
   "metadata": {
    "pycharm": {
     "name": "#%% md\n"
    }
   },
   "source": [
    "### Задание 4.3\n",
    "\n",
    "Получить из строки config список VLANов вида: `['1', '3', '10', '20', '30', '100']`\n",
    "\n",
    "`config = 'switchport trunk allowed vlan 1,3,10,20,30,100'`"
   ]
  },
  {
   "cell_type": "code",
   "execution_count": 5,
   "metadata": {
    "pycharm": {
     "is_executing": false,
     "name": "#%%\n"
    }
   },
   "outputs": [
    {
     "name": "stdout",
     "output_type": "stream",
     "text": [
      "['1', '3', '10', '20', '30', '100']\n"
     ]
    }
   ],
   "source": [
    "config = 'switchport trunk allowed vlan 1,3,10,20,30,100'\n",
    "\n",
    "print(config.split()[-1].split(','))"
   ]
  },
  {
   "cell_type": "markdown",
   "metadata": {
    "pycharm": {
     "name": "#%% md\n"
    }
   },
   "source": [
    "### Задание 4.4\n",
    "\n",
    "Список vlans это список VLANов, собранных со всех устройств сети, поэтому в списке есть повторяющиеся номера VLAN.\n",
    "\n",
    "Из списка нужно получить уникальный список VLANов, отсортированный по возрастанию номеров."
   ]
  },
  {
   "cell_type": "code",
   "execution_count": 8,
   "metadata": {
    "pycharm": {
     "is_executing": false,
     "name": "#%%\n"
    }
   },
   "outputs": [
    {
     "name": "stdout",
     "output_type": "stream",
     "text": [
      "[1, 2, 3, 4, 10, 20, 30, 100]\n"
     ]
    }
   ],
   "source": [
    "vlans = [10, 20, 30, 1, 2, 100, 10, 30, 3, 4, 10]\n",
    "vlans = list(set(vlans))\n",
    "print(sorted(vlans))"
   ]
  },
  {
   "cell_type": "markdown",
   "metadata": {
    "pycharm": {
     "name": "#%% md\n"
    }
   },
   "source": [
    "### Задание 4.5\n",
    "\n",
    "Из строк command1 и command2 получить список VLANов, которые есть и в команде command1 и в команде command2.\n",
    "\n",
    "Результатом должен быть список: `['1', '3', '8']`\n",
    "\n",
    "`command1 = 'switchport trunk allowed vlan 1,2,3,5,8'`\n",
    "`command2 = 'switchport trunk allowed vlan 1,3,8,9'`"
   ]
  },
  {
   "cell_type": "code",
   "execution_count": 11,
   "metadata": {
    "pycharm": {
     "is_executing": false,
     "name": "#%%\n"
    }
   },
   "outputs": [
    {
     "name": "stdout",
     "output_type": "stream",
     "text": [
      "['1', '3', '8']\n"
     ]
    }
   ],
   "source": [
    "command1 = 'switchport trunk allowed vlan 1,2,3,5,8'\n",
    "command2 = 'switchport trunk allowed vlan 1,3,8,9'\n",
    "c1 = set(command1.split()[-1].split(','))\n",
    "c2 = set(command2.split()[-1].split(','))\n",
    "\n",
    "print(list(c1.intersection(c2)))"
   ]
  },
  {
   "cell_type": "markdown",
   "metadata": {},
   "source": [
    "### Задание 4.6\n",
    "\n",
    "Обработать строку ospf_route и вывести информацию на стандартный поток вывода в виде:\n",
    "```\n",
    "Protocol:               OSPF\n",
    "Prefix:                 10.0.24.0/24\n",
    "AD/Metric:              110/41\n",
    "Next-Hop:               10.0.13.3\n",
    "Last update:            3d18h\n",
    "Outbound Interface:     FastEthernet0/0\n",
    "```\n",
    "\n",
    "`ospf_route = 'O        10.0.24.0/24 [110/41] via 10.0.13.3, 3d18h, FastEthernet0/0'`"
   ]
  },
  {
   "cell_type": "code",
   "execution_count": 2,
   "metadata": {
    "pycharm": {
     "is_executing": false,
     "name": "#%%\n"
    }
   },
   "outputs": [
    {
     "name": "stdout",
     "output_type": "stream",
     "text": [
      "\n",
      "Protocol:\t\t\tOSPF\n",
      "Prefix:\t\t\t\t10.0.24.0/24\n",
      "AD/Metric:\t\t\t110/41\n",
      "Next-Hop:\t\t\t10.0.13.3\n",
      "Last update:\t\t\t3d18h\n",
      "Outbound Interface:\t\tFastEthernet0/0\n",
      "\n"
     ]
    }
   ],
   "source": [
    "ospf_route = 'O        10.0.24.0/24 [110/41] via 10.0.13.3, 3d18h, FastEthernet0/0'\n",
    "cfg = ospf_route.replace(',', '').split()\n",
    "template = \"\"\"\n",
    "Protocol:\\t\\t\\t{0}\n",
    "Prefix:\\t\\t\\t\\t{1}\n",
    "AD/Metric:\\t\\t\\t{2}\n",
    "Next-Hop:\\t\\t\\t{4}\n",
    "Last update:\\t\\t\\t{5}\n",
    "Outbound Interface:\\t\\t{6}\n",
    "\"\"\"\n",
    "\n",
    "cfg[0] = 'OSPF' if cfg[0] == 'O' else cfg[0]\n",
    "cfg[2] = cfg[2].replace('[', '')\n",
    "cfg[2] = cfg[2].replace(']', '')\n",
    "\n",
    "print(template.format(*cfg))"
   ]
  },
  {
   "cell_type": "markdown",
   "metadata": {
    "pycharm": {
     "name": "#%% md\n"
    }
   },
   "source": [
    "### Задание 4.7 \n",
    "Преобразовать MAC-адрес mac в двоичную строку такого вида: `101010101010101010111011101110111100110011001100`\n",
    "\n",
    "`mac = 'AAAA:BBBB:CCCC'`"
   ]
  },
  {
   "cell_type": "code",
   "execution_count": 2,
   "metadata": {
    "pycharm": {
     "is_executing": false,
     "name": "#%%\n"
    }
   },
   "outputs": [
    {
     "name": "stdout",
     "output_type": "stream",
     "text": [
      "0b101010101010101010111011101110111100110011001100\n"
     ]
    }
   ],
   "source": [
    "mac = 'AAAA:BBBB:CCCC'\n",
    "mac = int(mac.replace(':', ''), 16)\n",
    "\n",
    "print(bin(mac))"
   ]
  },
  {
   "cell_type": "markdown",
   "metadata": {},
   "source": [
    "### Задание 4.8\n",
    "Преобразовать IP-адрес в двоичный формат и вывести на стандартный поток вывода вывод столбцами, таким образом:\n",
    "\n",
    "первой строкой должны идти десятичные значения байтов\n",
    "второй строкой двоичные значения\n",
    "Вывод должен быть упорядочен также, как в примере:\n",
    "\n",
    "столбцами\n",
    "ширина столбца 10 символов\n",
    "Пример вывода для адреса 10.1.1.1:\n",
    "```\n",
    "10        1         1         1\n",
    "00001010  00000001  00000001  00000001\n",
    "```"
   ]
  },
  {
   "cell_type": "code",
   "execution_count": 25,
   "metadata": {
    "pycharm": {
     "is_executing": false,
     "name": "#%%\n"
    }
   },
   "outputs": [
    {
     "name": "stdout",
     "output_type": "stream",
     "text": [
      "\n",
      "255      127      1        1       \n",
      "11111111 01111111 00000001 00000001\n",
      "\n"
     ]
    }
   ],
   "source": [
    "input_val = '255.127.1.1'\n",
    "\n",
    "ip = [int(i) for i in input_val.split('.')]\n",
    "\n",
    "template = \"\"\"\n",
    "{0:<8} {1:<8} {2:<8} {3:<8}\n",
    "{0:0>8b} {1:0>8b} {2:0>8b} {3:0>8b}\n",
    "\"\"\"\n",
    "\n",
    "print(template.format(*ip))"
   ]
  }
 ],
 "metadata": {
  "kernelspec": {
   "display_name": "Python 3",
   "language": "python",
   "name": "python3"
  },
  "language_info": {
   "codemirror_mode": {
    "name": "ipython",
    "version": 3
   },
   "file_extension": ".py",
   "mimetype": "text/x-python",
   "name": "python",
   "nbconvert_exporter": "python",
   "pygments_lexer": "ipython3",
   "version": "3.7.7"
  },
  "pycharm": {
   "stem_cell": {
    "cell_type": "raw",
    "metadata": {
     "collapsed": false
    },
    "source": []
   }
  }
 },
 "nbformat": 4,
 "nbformat_minor": 1
}
