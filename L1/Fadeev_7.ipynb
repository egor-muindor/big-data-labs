{
 "cells": [
  {
   "cell_type": "markdown",
   "metadata": {
    "collapsed": true,
    "pycharm": {
     "name": "#%% md\n"
    }
   },
   "source": [
    "### Задание 7.1\n",
    "Аналогично заданию 4.6 обработать строки из файла ospf.txt и вывести информацию по каждой в таком виде:\n",
    "\n",
    "```\n",
    "Protocol:              OSPF\n",
    "Prefix:                10.0.24.0/24\n",
    "AD/Metric:             110/41\n",
    "Next-Hop:              10.0.13.3\n",
    "Last update:           3d18h\n",
    "Outbound Interface:    FastEthernet0/0\n",
    "```"
   ]
  },
  {
   "cell_type": "code",
   "execution_count": 2,
   "outputs": [
    {
     "name": "stdout",
     "text": [
      "\n",
      "        Protocol:             OSPF              \n",
      "        Prefix:               10.0.24.0/24      \n",
      "        AD/Metric:            110/41            \n",
      "        Next-Hop:             10.0.13.3         \n",
      "        Last update:          3d18h             \n",
      "        Outbound Interface:   FastEthernet0/0   \n",
      "        \n",
      "\n",
      "        Protocol:             OSPF              \n",
      "        Prefix:               10.0.28.0/24      \n",
      "        AD/Metric:            110/31            \n",
      "        Next-Hop:             10.0.13.3         \n",
      "        Last update:          3d20h             \n",
      "        Outbound Interface:   FastEthernet0/0   \n",
      "        \n",
      "\n",
      "        Protocol:             OSPF              \n",
      "        Prefix:               10.0.37.0/24      \n",
      "        AD/Metric:            110/11            \n",
      "        Next-Hop:             10.0.13.3         \n",
      "        Last update:          3d20h             \n",
      "        Outbound Interface:   FastEthernet0/0   \n",
      "        \n",
      "\n",
      "        Protocol:             OSPF              \n",
      "        Prefix:               10.0.41.0/24      \n",
      "        AD/Metric:            110/51            \n",
      "        Next-Hop:             10.0.13.3         \n",
      "        Last update:          3d20h             \n",
      "        Outbound Interface:   FastEthernet0/0   \n",
      "        \n",
      "\n",
      "        Protocol:             OSPF              \n",
      "        Prefix:               10.0.78.0/24      \n",
      "        AD/Metric:            110/21            \n",
      "        Next-Hop:             10.0.13.3         \n",
      "        Last update:          3d20h             \n",
      "        Outbound Interface:   FastEthernet0/0   \n",
      "        \n",
      "\n",
      "        Protocol:             OSPF              \n",
      "        Prefix:               10.0.79.0/24      \n",
      "        AD/Metric:            110/20            \n",
      "        Next-Hop:             10.0.19.9         \n",
      "        Last update:          4d02h             \n",
      "        Outbound Interface:   FastEthernet0/2   \n",
      "        \n",
      "\n",
      "        Protocol:             OSPF              \n",
      "        Prefix:               10.0.81.0/24      \n",
      "        AD/Metric:            110/41            \n",
      "        Next-Hop:             10.0.13.3         \n",
      "        Last update:          3d20h             \n",
      "        Outbound Interface:   FastEthernet0/0   \n",
      "        \n",
      "\n",
      "        Protocol:             OSPF              \n",
      "        Prefix:               10.0.91.0/24      \n",
      "        AD/Metric:            110/60            \n",
      "        Next-Hop:             10.0.19.9         \n",
      "        Last update:          3d19h             \n",
      "        Outbound Interface:   FastEthernet0/2   \n",
      "        \n"
     ],
     "output_type": "stream"
    }
   ],
   "source": [
    "with open('./data/ospf.txt', 'r') as text:\n",
    "    ospf = text.readlines()\n",
    "    for lines in ospf:\n",
    "        lines = lines.strip().split()\n",
    "        cfg = {\n",
    "            'protocol': lines[0].replace('O', 'OSPF'), \n",
    "            'prefix': lines[1], 'ad': lines[2].strip('[]'), \n",
    "            'hop': lines[4].strip(','), \n",
    "            'update': lines[5].strip(','), \n",
    "            'interface': lines[6]\n",
    "           }\n",
    "        ospf_route = \"\"\"\n",
    "        Protocol:             {protocol:18}\n",
    "        Prefix:               {prefix:18}\n",
    "        AD/Metric:            {ad:18}\n",
    "        Next-Hop:             {hop:18}\n",
    "        Last update:          {update:18}\n",
    "        Outbound Interface:   {interface:18}\n",
    "        \"\"\"\n",
    "        \n",
    "        print(ospf_route.format(**cfg))\n"
   ],
   "metadata": {
    "collapsed": false,
    "pycharm": {
     "name": "#%%\n",
     "is_executing": false
    }
   }
  },
  {
   "cell_type": "markdown",
   "source": [
    "### Задание 7.2\n",
    "Создать скрипт, который будет обрабатывать конфигурационный файл `config_sw1.txt`:\n",
    "имя файла передается как аргумент скрипту.\n",
    "Скрипт должен возвращать на стандартный поток вывода команды из переданного конфигурационного файла, исключая строки, которые начинаются с `!`.\n",
    "\n",
    "Между строками не должно быть дополнительного символа перевода строки."
   ],
   "metadata": {
    "collapsed": false
   }
  },
  {
   "cell_type": "code",
   "execution_count": 3,
   "outputs": [
    {
     "name": "stdout",
     "text": [
      "\n",
      "Current configuration : 2033 bytes\n",
      "version 15.0\n",
      "service timestamps debug datetime msec\n",
      "service timestamps log datetime msec\n",
      "no service password-encryption\n",
      "hostname sw1\n",
      "interface Ethernet0/0\n",
      " duplex auto\n",
      "interface Ethernet0/1\n",
      " switchport trunk encapsulation dot1q\n",
      " switchport trunk allowed vlan 100\n",
      " switchport mode trunk\n",
      " duplex auto\n",
      " spanning-tree portfast edge trunk\n",
      "interface Ethernet0/2\n",
      " duplex auto\n",
      "interface Ethernet0/3\n",
      " switchport trunk encapsulation dot1q\n",
      " switchport trunk allowed vlan 100\n",
      " duplex auto\n",
      " switchport mode trunk\n",
      " spanning-tree portfast edge trunk\n",
      "interface Ethernet1/0\n",
      " duplex auto\n",
      "interface Ethernet1/1\n",
      " duplex auto\n",
      "interface Ethernet1/2\n",
      " duplex auto\n",
      "interface Ethernet1/3\n",
      " duplex auto\n",
      "interface Vlan100\n",
      " ip address 10.0.100.1 255.255.255.0\n",
      "alias configure sh do sh\n",
      "alias exec ospf sh run | s ^router ospf\n",
      "alias exec bri show ip int bri | exc unass\n",
      "alias exec id show int desc\n",
      "alias exec top sh proc cpu sorted | excl 0.00%__0.00%__0.00%\n",
      "alias exec c conf t\n",
      "alias exec diff sh archive config differences nvram:startup-config system:running-config\n",
      "alias exec shcr sh run | s ^crypto\n",
      "alias exec desc sh int desc | ex down\n",
      "alias exec bgp sh run | s ^router bgp\n",
      "alias exec xc sh xconnect all\n",
      "alias exec vc sh mpls l2tr vc\n",
      "line con 0\n",
      " exec-timeout 0 0\n",
      " privilege level 15\n",
      " logging synchronous\n",
      "line aux 0\n",
      "line vty 0 4\n",
      " login\n",
      " transport input all\n",
      "end\n"
     ],
     "output_type": "stream"
    }
   ],
   "source": [
    "some_arg = './data/config_sw1.txt'\n",
    "with open(some_arg, 'r') as file:\n",
    "    for line in file:\n",
    "        if line.find('!') is -1:\n",
    "            print(line.strip('\\n'))"
   ],
   "metadata": {
    "collapsed": false,
    "pycharm": {
     "name": "#%%\n",
     "is_executing": false
    }
   }
  },
  {
   "cell_type": "markdown",
   "source": [
    "### Задание 7.3\n",
    "\n",
    "Скрипт должен обрабатывать записи в файле `CAM_table.txt`. Каждая строка, где есть MAC-адрес, должна быть обработана таким образом, чтобы на стандартный поток вывода была выведена таблица вида (показаны не все строки из файла):\n",
    "\n",
    "```\n",
    "100    01bb.c580.7000   Gi0/1\n",
    "200    0a4b.c380.7000   Gi0/2\n",
    "300    a2ab.c5a0.7000   Gi0/3\n",
    "100    0a1b.1c80.7000   Gi0/4\n",
    "500    02b1.3c80.7000   Gi0/5\n",
    "200    1a4b.c580.7000   Gi0/6\n",
    "300    0a1b.5c80.7000   Gi0/7\n",
    "```"
   ],
   "metadata": {
    "collapsed": false,
    "pycharm": {
     "name": "#%% md\n"
    }
   }
  },
  {
   "cell_type": "code",
   "execution_count": 5,
   "outputs": [
    {
     "name": "stdout",
     "text": [
      "100\t01bb.c580.7000\tGi0/1\n",
      "200\t0a4b.c380.7c00\tGi0/2\n",
      "300\ta2ab.c5a0.700e\tGi0/3\n",
      "10\t0a1b.1c80.7000\tGi0/4\n",
      "500\t02b1.3c80.7b00\tGi0/5\n",
      "200\t1a4b.c580.7000\tGi0/6\n",
      "300\t0a1b.5c80.70f0\tGi0/7\n",
      "10\t01ab.c5d0.70d0\tGi0/8\n",
      "1000\t0a4b.c380.7d00\tGi0/9\n"
     ],
     "output_type": "stream"
    }
   ],
   "source": [
    "with open('./data/CAM_table.txt', 'r') as start:\n",
    "    for line in start:\n",
    "        if line.count('.') is 2:\n",
    "            a = line.strip('\\n').split()\n",
    "            b = a.pop(-2)\n",
    "            print('\\t'.join(a))\n"
   ],
   "metadata": {
    "collapsed": false,
    "pycharm": {
     "name": "#%%\n",
     "is_executing": false
    }
   }
  }
 ],
 "metadata": {
  "kernelspec": {
   "display_name": "Python 3",
   "language": "python",
   "name": "python3"
  },
  "language_info": {
   "codemirror_mode": {
    "name": "ipython",
    "version": 2
   },
   "file_extension": ".py",
   "mimetype": "text/x-python",
   "name": "python",
   "nbconvert_exporter": "python",
   "pygments_lexer": "ipython2",
   "version": "2.7.6"
  },
  "pycharm": {
   "stem_cell": {
    "cell_type": "raw",
    "source": [],
    "metadata": {
     "collapsed": false
    }
   }
  }
 },
 "nbformat": 4,
 "nbformat_minor": 0
}