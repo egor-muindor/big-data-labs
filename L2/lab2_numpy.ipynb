{
 "cells": [
  {
   "cell_type": "markdown",
   "metadata": {
    "colab_type": "text",
    "id": "9zWJc5rl9kVh"
   },
   "source": [
    "# Лабораторная работа №2. Библиотеки NumPy и Pandas."
   ]
  },
  {
   "cell_type": "markdown",
   "metadata": {
    "colab_type": "text",
    "id": "nq2vjOfwWLwF"
   },
   "source": [
    "## NumPy"
   ]
  },
  {
   "cell_type": "code",
   "execution_count": 88,
   "metadata": {
    "colab": {},
    "colab_type": "code",
    "id": "R0mDEfRJ9kVi"
   },
   "outputs": [],
   "source": [
    "import numpy as np"
   ]
  },
  {
   "cell_type": "markdown",
   "metadata": {
    "colab_type": "text",
    "id": "ZexBy7Kb9kVm"
   },
   "source": [
    "### Задание 1"
   ]
  },
  {
   "cell_type": "markdown",
   "metadata": {
    "colab_type": "text",
    "id": "QuJhYgJU9kVn"
   },
   "source": [
    "Реализуйте функции для перемножения матриц с использованием библиотеки NumPy и без неё (то есть на чистом Python). Сравните время работы функций при помощи команды `%%time`."
   ]
  },
  {
   "cell_type": "markdown",
   "metadata": {
    "pycharm": {
     "name": "#%% md\n"
    }
   },
   "source": [
    "#### Vanilla python"
   ]
  },
  {
   "cell_type": "code",
   "execution_count": 89,
   "metadata": {
    "pycharm": {
     "name": "#%%\n"
    }
   },
   "outputs": [],
   "source": [
    "def multiplication(m1, m2):\n",
    "    # Функцию взял у себя же с 1-го курса\n",
    "    # Проверка на совпадение кол-ва строк и столбцов для перемножения\n",
    "    if len(m1[0]) != len(m2):\n",
    "        raise AttributeError('Матрицы не возможно перемножить')\n",
    "\n",
    "    zipped_m2 = zip(*m2)\n",
    "    zipped_m2 = list(zipped_m2)\n",
    "    # Зипом \"склеиваем\" элементы для итерации генератора\n",
    "    return [[sum(ij*ji for ij, ji in zip(m1_r, m2_c)) for m2_c in zipped_m2] for m1_r in m1]"
   ]
  },
  {
   "cell_type": "code",
   "execution_count": 90,
   "metadata": {
    "pycharm": {
     "name": "#%%\n"
    }
   },
   "outputs": [
    {
     "name": "stdout",
     "output_type": "stream",
     "text": [
      "CPU times: user 120 µs, sys: 2 µs, total: 122 µs\n",
      "Wall time: 131 µs\n"
     ]
    },
    {
     "data": {
      "text/plain": "[[18, 12, 6], [18, 12, 6], [18, 12, 6]]"
     },
     "execution_count": 90,
     "metadata": {},
     "output_type": "execute_result"
    }
   ],
   "source": [
    "%%time\n",
    "m1 = [[1,2,3],[1,2,3],[1,2,3]]\n",
    "m2 = [[3,2,1], [3,2,1], [3,2,1]]\n",
    "\n",
    "multiplication(m1,m2)"
   ]
  },
  {
   "cell_type": "markdown",
   "metadata": {
    "pycharm": {
     "name": "#%% md\n"
    }
   },
   "source": [
    "#### NumPy"
   ]
  },
  {
   "cell_type": "code",
   "execution_count": 91,
   "metadata": {
    "pycharm": {
     "name": "#%%\n"
    }
   },
   "outputs": [
    {
     "name": "stdout",
     "output_type": "stream",
     "text": [
      "CPU times: user 89 µs, sys: 2 µs, total: 91 µs\n",
      "Wall time: 97.5 µs\n"
     ]
    },
    {
     "data": {
      "text/plain": "array([[18, 12,  6],\n       [18, 12,  6],\n       [18, 12,  6]])"
     },
     "execution_count": 91,
     "metadata": {},
     "output_type": "execute_result"
    }
   ],
   "source": [
    "%%time\n",
    "m1 = np.array([[1,2,3], [1,2,3], [1,2,3]])\n",
    "m2 = np.array([[3,2,1], [3,2,1], [3,2,1]])\n",
    "\n",
    "m1.dot(m2)"
   ]
  },
  {
   "cell_type": "markdown",
   "metadata": {
    "pycharm": {
     "name": "#%% md\n"
    }
   },
   "source": [
    "#### Вывод\n",
    "\n",
    "По идее np должен быть быстрее, чем чистый python, но в моем случае он чаще уступал чистому python.\n",
    "\n",
    "Скорее всего такой эффект из-за небольших матриц, представленных для перемножения."
   ]
  },
  {
   "cell_type": "markdown",
   "metadata": {
    "colab_type": "text",
    "id": "pNEVDEQJ9kVz"
   },
   "source": [
    "### Задание 2"
   ]
  },
  {
   "cell_type": "markdown",
   "metadata": {
    "colab_type": "text",
    "id": "TNG-vLX_9kVz"
   },
   "source": [
    "Напишите функцию, которая по данной последовательности $\\{A_i\\}_{i=1}^n$ строит последовательность $S_n$, где $S_k = \\frac{A_1 + ... + A_k}{k}$.\n",
    "Аналогично -- с помощью библиотеки NumPy и без нее. Сравните скорость, объясните результат."
   ]
  },
  {
   "cell_type": "markdown",
   "metadata": {
    "pycharm": {
     "name": "#%% md\n"
    }
   },
   "source": [
    "#### Vanilla python"
   ]
  },
  {
   "cell_type": "code",
   "execution_count": 92,
   "metadata": {
    "pycharm": {
     "name": "#%%\n"
    }
   },
   "outputs": [],
   "source": [
    "def avg_section(arr: list, start_k = 0):\n",
    "    # arr - исходный массив\n",
    "    # start_k - точка отсчёта\n",
    "    # через enumerate() короче, чем через range(len())\n",
    "    for k, v in enumerate(arr[start_k:]):\n",
    "        yield sum(arr[:k])/(k+1)"
   ]
  },
  {
   "cell_type": "code",
   "execution_count": 93,
   "metadata": {
    "pycharm": {
     "name": "#%%\n"
    }
   },
   "outputs": [
    {
     "name": "stdout",
     "output_type": "stream",
     "text": [
      "CPU times: user 5.48 ms, sys: 0 ns, total: 5.48 ms\n",
      "Wall time: 5.37 ms\n"
     ]
    },
    {
     "data": {
      "text/plain": "[496.50100401606426,\n 497.0010030090271,\n 497.501002004008,\n 498.001001001001,\n 498.501]"
     },
     "execution_count": 93,
     "metadata": {},
     "output_type": "execute_result"
    }
   ],
   "source": [
    "test_arr = [i for i in range(1000)]\n",
    "%time [i for i in avg_section(test_arr)]\n",
    "# %time - ломает запись в переменную\n",
    "[i for i in avg_section(test_arr)][-5:]"
   ]
  },
  {
   "cell_type": "markdown",
   "metadata": {
    "pycharm": {
     "name": "#%% md\n"
    }
   },
   "source": [
    "#### NumPy"
   ]
  },
  {
   "cell_type": "code",
   "execution_count": 94,
   "metadata": {
    "pycharm": {
     "name": "#%%\n"
    }
   },
   "outputs": [],
   "source": [
    "test_arr = np.array([i for i in range(1000)])\n",
    "k = 999"
   ]
  },
  {
   "cell_type": "code",
   "execution_count": 95,
   "metadata": {
    "pycharm": {
     "name": "#%%\n"
    }
   },
   "outputs": [
    {
     "name": "stdout",
     "output_type": "stream",
     "text": [
      "CPU times: user 8.49 ms, sys: 0 ns, total: 8.49 ms\n",
      "Wall time: 10.1 ms\n"
     ]
    },
    {
     "data": {
      "text/plain": "array([496.50100402, 497.00100301, 497.501002  , 498.001001  ,\n       498.501     ])"
     },
     "execution_count": 95,
     "metadata": {},
     "output_type": "execute_result"
    }
   ],
   "source": [
    "new_arr = np.empty(test_arr.size)\n",
    "%time for i, el in enumerate(new_arr): new_arr[i] = test_arr[:i].sum()/(i+1)\n",
    "new_arr[-5:]"
   ]
  },
  {
   "cell_type": "markdown",
   "source": [
    "#### Вывод\n",
    "\n",
    "Не знаю почему numpy в среднем медленнее, чем чистый python.\n",
    "Может я как-то не правильно его использую.\n",
    "\n",
    "Многократные прогоны на одних данных дают следующие результаты:\n",
    "\n",
    "- чистый python: от 6 мс до 10 мс\n",
    "- numpy: от 5 до 13 мс\n",
    "\n",
    "В 8 из 10 попытках чистый python был быстрее, либо равен по времени выполнения numpy.\n",
    "\n",
    "Использование генератора при тесте чистого python не должно дать преимущества, тк количество операций не сокращается."
   ],
   "metadata": {
    "collapsed": false,
    "pycharm": {
     "name": "#%% md\n"
    }
   }
  },
  {
   "cell_type": "markdown",
   "metadata": {
    "colab_type": "text",
    "id": "hYOmgppl9kV5"
   },
   "source": [
    "### Задание 3"
   ]
  },
  {
   "cell_type": "markdown",
   "metadata": {
    "colab_type": "text",
    "id": "TkrFKdoJ9kV5"
   },
   "source": [
    "Пусть задан некоторый массив $X$. Надо построить новый массив, где все элементы с нечетными индексами требуется заменить на число $a$ (если оно не указано, то на 1). Все четные элементы исходного массива нужно возвести в куб и записать в обратном порядке относительно позиций этих элементов. Массив $X$ при этом должен остаться без изменений. В конце требуется слить массив $X$ с преобразованным $X$ и вывести в обратном порядке."
   ]
  },
  {
   "cell_type": "code",
   "execution_count": 96,
   "metadata": {},
   "outputs": [],
   "source": [
    "def morph_arr(arr: list, a=1):\n",
    "    # Я не знаю, как такую дичь кратко написать с использованием numpy\n",
    "    calc = [el ** 3 if i % 2 == 0 else a for i, el in enumerate(arr)]\n",
    "    calc = [j for i in zip(calc[::2], calc[::-2]) for j in i]\n",
    "    return list(arr + calc)[::-1]"
   ]
  },
  {
   "cell_type": "code",
   "execution_count": 97,
   "metadata": {
    "pycharm": {
     "name": "#%%\n"
    }
   },
   "outputs": [
    {
     "name": "stdout",
     "output_type": "stream",
     "text": [
      "CPU times: user 12 µs, sys: 0 ns, total: 12 µs\n",
      "Wall time: 15.3 µs\n"
     ]
    },
    {
     "data": {
      "text/plain": "[1, -125, 1, 157464, 1, 12167, 1, -8, 100, -5, -1, 54, 2, 23, 13, -2]"
     },
     "execution_count": 97,
     "metadata": {},
     "output_type": "execute_result"
    }
   ],
   "source": [
    "# arr = [-10, -3, 0, 1, 4, 5, 6, 7, 8, 9]\n",
    "arr = [-2, 13, 23, 2, 54, -1, -5, 100]\n",
    "%time morph_arr(arr)"
   ]
  },
  {
   "cell_type": "markdown",
   "metadata": {},
   "source": [
    "### Задание 4"
   ]
  },
  {
   "cell_type": "markdown",
   "metadata": {},
   "source": [
    "Реализуйте <a href=\"https://habr.com/ru/post/128454/\" target=\"_blank\">метод Монте-Карло</a> для вычисления числа $\\pi$. Напишите две версии: с использованием NumPy и без. Сравните время работы. Вычислите значение числа $\\pi$ с точностью до второго знака после запятой."
   ]
  },
  {
   "cell_type": "markdown",
   "source": [
    "#### Vanilla python"
   ],
   "metadata": {
    "collapsed": false
   }
  },
  {
   "cell_type": "code",
   "execution_count": 98,
   "metadata": {},
   "outputs": [
    {
     "name": "stdout",
     "output_type": "stream",
     "text": [
      "CPU times: user 3.13 s, sys: 3.72 ms, total: 3.14 s\n",
      "Wall time: 3.14 s\n"
     ]
    },
    {
     "data": {
      "text/plain": "3.1424472"
     },
     "execution_count": 98,
     "metadata": {},
     "output_type": "execute_result"
    }
   ],
   "source": [
    "from random import random\n",
    "rng = 10000000\n",
    "%time 4 * sum(1 for _ in range(rng) if random()**2 + random()**2 < 1) / rng"
   ]
  },
  {
   "cell_type": "markdown",
   "source": [
    "#### NumPy"
   ],
   "metadata": {
    "collapsed": false
   }
  },
  {
   "cell_type": "code",
   "execution_count": 99,
   "outputs": [
    {
     "name": "stdout",
     "output_type": "stream",
     "text": [
      "3.1416676\n",
      "CPU times: user 198 ms, sys: 209 ms, total: 407 ms\n",
      "Wall time: 406 ms\n"
     ]
    }
   ],
   "source": [
    "%%time\n",
    "rndm = np.random.RandomState()\n",
    "x = rndm.uniform(size=rng)\n",
    "y = rndm.uniform(size=rng)\n",
    "r = x*x + y*y\n",
    "print(4.0 * np.count_nonzero(r < 1) / rng)"
   ],
   "metadata": {
    "collapsed": false,
    "pycharm": {
     "name": "#%%\n"
    }
   }
  },
  {
   "cell_type": "markdown",
   "source": [
    "#### Вывод\n",
    "У numpy значительный прирост производительности, при кратном увеличении количества элементов выборки"
   ],
   "metadata": {
    "collapsed": false,
    "pycharm": {
     "name": "#%% md\n"
    }
   }
  }
 ],
 "metadata": {
  "colab": {
   "collapsed_sections": [],
   "name": "[homework]numpy.ipynb",
   "provenance": [],
   "version": "0.3.2"
  },
  "kernelspec": {
   "display_name": "Python 3",
   "language": "python",
   "name": "python3"
  },
  "language_info": {
   "codemirror_mode": {
    "name": "ipython",
    "version": 3
   },
   "file_extension": ".py",
   "mimetype": "text/x-python",
   "name": "python",
   "nbconvert_exporter": "python",
   "pygments_lexer": "ipython3",
   "version": "3.7.7"
  }
 },
 "nbformat": 4,
 "nbformat_minor": 1
}